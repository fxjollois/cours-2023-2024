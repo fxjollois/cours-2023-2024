{
 "cells": [
  {
   "cell_type": "markdown",
   "metadata": {},
   "source": [
    "# Application - *correction*"
   ]
  },
  {
   "cell_type": "code",
   "execution_count": 1,
   "metadata": {},
   "outputs": [],
   "source": [
    "from ucimlrepo import fetch_ucirepo\n",
    "import pandas\n",
    "  \n",
    "# fetch dataset \n",
    "adult = fetch_ucirepo(id = 2)\n",
    "  \n",
    "# data (as pandas dataframes) \n",
    "X = adult.data.features \n",
    "y = adult.data.targets \n",
    "\n",
    "y = y.assign(income = y.income.str.replace(\".\", \"\"))"
   ]
  },
  {
   "cell_type": "markdown",
   "metadata": {},
   "source": [
    "## Nettoyage des données\n",
    "\n",
    "- Supprimer les lignes avec données manquantes\n",
    "- Supprimer les colonnes `fnlwgt`, `education-num` et `native-country`\n",
    "- Encoder en *ont-hot* les variables `workclass`, `education`, `marital-status`, `occupation`, `relationship`, `race`, `sex`\n",
    "- Binariser les variables `capital-gain` et `capital-loss`\n",
    "\n",
    "### Suppression des données manquantes"
   ]
  },
  {
   "cell_type": "code",
   "execution_count": 2,
   "metadata": {},
   "outputs": [],
   "source": [
    "X1 = X.dropna()\n",
    "y1 = y.iloc[X1.index]"
   ]
  },
  {
   "cell_type": "code",
   "execution_count": 3,
   "metadata": {},
   "outputs": [],
   "source": [
    "X2 = X1.reset_index()\n",
    "y2 = y1.reset_index()"
   ]
  },
  {
   "cell_type": "markdown",
   "metadata": {},
   "source": [
    "### Suppression des colonnes inutiles"
   ]
  },
  {
   "cell_type": "code",
   "execution_count": 4,
   "metadata": {},
   "outputs": [],
   "source": [
    "X3 = X2.drop(columns = [\"fnlwgt\", \"education-num\", \"native-country\"])"
   ]
  },
  {
   "cell_type": "markdown",
   "metadata": {},
   "source": [
    "### Encoder en *one-hot*"
   ]
  },
  {
   "cell_type": "code",
   "execution_count": 5,
   "metadata": {},
   "outputs": [
    {
     "data": {
      "text/html": [
       "<div>\n",
       "<style scoped>\n",
       "    .dataframe tbody tr th:only-of-type {\n",
       "        vertical-align: middle;\n",
       "    }\n",
       "\n",
       "    .dataframe tbody tr th {\n",
       "        vertical-align: top;\n",
       "    }\n",
       "\n",
       "    .dataframe thead th {\n",
       "        text-align: right;\n",
       "    }\n",
       "</style>\n",
       "<table border=\"1\" class=\"dataframe\">\n",
       "  <thead>\n",
       "    <tr style=\"text-align: right;\">\n",
       "      <th></th>\n",
       "      <th>index</th>\n",
       "      <th>age</th>\n",
       "      <th>capital-gain</th>\n",
       "      <th>capital-loss</th>\n",
       "      <th>hours-per-week</th>\n",
       "      <th>workclass:?</th>\n",
       "      <th>workclass:Federal-gov</th>\n",
       "      <th>workclass:Local-gov</th>\n",
       "      <th>workclass:Never-worked</th>\n",
       "      <th>workclass:Private</th>\n",
       "      <th>...</th>\n",
       "      <th>relationship:Own-child</th>\n",
       "      <th>relationship:Unmarried</th>\n",
       "      <th>relationship:Wife</th>\n",
       "      <th>race:Amer-Indian-Eskimo</th>\n",
       "      <th>race:Asian-Pac-Islander</th>\n",
       "      <th>race:Black</th>\n",
       "      <th>race:Other</th>\n",
       "      <th>race:White</th>\n",
       "      <th>sex:Female</th>\n",
       "      <th>sex:Male</th>\n",
       "    </tr>\n",
       "  </thead>\n",
       "  <tbody>\n",
       "    <tr>\n",
       "      <th>0</th>\n",
       "      <td>0</td>\n",
       "      <td>39</td>\n",
       "      <td>2174</td>\n",
       "      <td>0</td>\n",
       "      <td>40</td>\n",
       "      <td>0.0</td>\n",
       "      <td>0.0</td>\n",
       "      <td>0.0</td>\n",
       "      <td>0.0</td>\n",
       "      <td>0.0</td>\n",
       "      <td>...</td>\n",
       "      <td>0.0</td>\n",
       "      <td>0.0</td>\n",
       "      <td>0.0</td>\n",
       "      <td>0.0</td>\n",
       "      <td>0.0</td>\n",
       "      <td>0.0</td>\n",
       "      <td>0.0</td>\n",
       "      <td>1.0</td>\n",
       "      <td>0.0</td>\n",
       "      <td>1.0</td>\n",
       "    </tr>\n",
       "    <tr>\n",
       "      <th>1</th>\n",
       "      <td>1</td>\n",
       "      <td>50</td>\n",
       "      <td>0</td>\n",
       "      <td>0</td>\n",
       "      <td>13</td>\n",
       "      <td>0.0</td>\n",
       "      <td>0.0</td>\n",
       "      <td>0.0</td>\n",
       "      <td>0.0</td>\n",
       "      <td>0.0</td>\n",
       "      <td>...</td>\n",
       "      <td>0.0</td>\n",
       "      <td>0.0</td>\n",
       "      <td>0.0</td>\n",
       "      <td>0.0</td>\n",
       "      <td>0.0</td>\n",
       "      <td>0.0</td>\n",
       "      <td>0.0</td>\n",
       "      <td>1.0</td>\n",
       "      <td>0.0</td>\n",
       "      <td>1.0</td>\n",
       "    </tr>\n",
       "    <tr>\n",
       "      <th>2</th>\n",
       "      <td>2</td>\n",
       "      <td>38</td>\n",
       "      <td>0</td>\n",
       "      <td>0</td>\n",
       "      <td>40</td>\n",
       "      <td>0.0</td>\n",
       "      <td>0.0</td>\n",
       "      <td>0.0</td>\n",
       "      <td>0.0</td>\n",
       "      <td>1.0</td>\n",
       "      <td>...</td>\n",
       "      <td>0.0</td>\n",
       "      <td>0.0</td>\n",
       "      <td>0.0</td>\n",
       "      <td>0.0</td>\n",
       "      <td>0.0</td>\n",
       "      <td>0.0</td>\n",
       "      <td>0.0</td>\n",
       "      <td>1.0</td>\n",
       "      <td>0.0</td>\n",
       "      <td>1.0</td>\n",
       "    </tr>\n",
       "    <tr>\n",
       "      <th>3</th>\n",
       "      <td>3</td>\n",
       "      <td>53</td>\n",
       "      <td>0</td>\n",
       "      <td>0</td>\n",
       "      <td>40</td>\n",
       "      <td>0.0</td>\n",
       "      <td>0.0</td>\n",
       "      <td>0.0</td>\n",
       "      <td>0.0</td>\n",
       "      <td>1.0</td>\n",
       "      <td>...</td>\n",
       "      <td>0.0</td>\n",
       "      <td>0.0</td>\n",
       "      <td>0.0</td>\n",
       "      <td>0.0</td>\n",
       "      <td>0.0</td>\n",
       "      <td>1.0</td>\n",
       "      <td>0.0</td>\n",
       "      <td>0.0</td>\n",
       "      <td>0.0</td>\n",
       "      <td>1.0</td>\n",
       "    </tr>\n",
       "    <tr>\n",
       "      <th>4</th>\n",
       "      <td>4</td>\n",
       "      <td>28</td>\n",
       "      <td>0</td>\n",
       "      <td>0</td>\n",
       "      <td>40</td>\n",
       "      <td>0.0</td>\n",
       "      <td>0.0</td>\n",
       "      <td>0.0</td>\n",
       "      <td>0.0</td>\n",
       "      <td>1.0</td>\n",
       "      <td>...</td>\n",
       "      <td>0.0</td>\n",
       "      <td>0.0</td>\n",
       "      <td>1.0</td>\n",
       "      <td>0.0</td>\n",
       "      <td>0.0</td>\n",
       "      <td>1.0</td>\n",
       "      <td>0.0</td>\n",
       "      <td>0.0</td>\n",
       "      <td>1.0</td>\n",
       "      <td>0.0</td>\n",
       "    </tr>\n",
       "    <tr>\n",
       "      <th>...</th>\n",
       "      <td>...</td>\n",
       "      <td>...</td>\n",
       "      <td>...</td>\n",
       "      <td>...</td>\n",
       "      <td>...</td>\n",
       "      <td>...</td>\n",
       "      <td>...</td>\n",
       "      <td>...</td>\n",
       "      <td>...</td>\n",
       "      <td>...</td>\n",
       "      <td>...</td>\n",
       "      <td>...</td>\n",
       "      <td>...</td>\n",
       "      <td>...</td>\n",
       "      <td>...</td>\n",
       "      <td>...</td>\n",
       "      <td>...</td>\n",
       "      <td>...</td>\n",
       "      <td>...</td>\n",
       "      <td>...</td>\n",
       "      <td>...</td>\n",
       "    </tr>\n",
       "    <tr>\n",
       "      <th>47616</th>\n",
       "      <td>48836</td>\n",
       "      <td>33</td>\n",
       "      <td>0</td>\n",
       "      <td>0</td>\n",
       "      <td>40</td>\n",
       "      <td>0.0</td>\n",
       "      <td>0.0</td>\n",
       "      <td>0.0</td>\n",
       "      <td>0.0</td>\n",
       "      <td>1.0</td>\n",
       "      <td>...</td>\n",
       "      <td>1.0</td>\n",
       "      <td>0.0</td>\n",
       "      <td>0.0</td>\n",
       "      <td>0.0</td>\n",
       "      <td>0.0</td>\n",
       "      <td>0.0</td>\n",
       "      <td>0.0</td>\n",
       "      <td>1.0</td>\n",
       "      <td>0.0</td>\n",
       "      <td>1.0</td>\n",
       "    </tr>\n",
       "    <tr>\n",
       "      <th>47617</th>\n",
       "      <td>48837</td>\n",
       "      <td>39</td>\n",
       "      <td>0</td>\n",
       "      <td>0</td>\n",
       "      <td>36</td>\n",
       "      <td>0.0</td>\n",
       "      <td>0.0</td>\n",
       "      <td>0.0</td>\n",
       "      <td>0.0</td>\n",
       "      <td>1.0</td>\n",
       "      <td>...</td>\n",
       "      <td>0.0</td>\n",
       "      <td>0.0</td>\n",
       "      <td>0.0</td>\n",
       "      <td>0.0</td>\n",
       "      <td>0.0</td>\n",
       "      <td>0.0</td>\n",
       "      <td>0.0</td>\n",
       "      <td>1.0</td>\n",
       "      <td>1.0</td>\n",
       "      <td>0.0</td>\n",
       "    </tr>\n",
       "    <tr>\n",
       "      <th>47618</th>\n",
       "      <td>48839</td>\n",
       "      <td>38</td>\n",
       "      <td>0</td>\n",
       "      <td>0</td>\n",
       "      <td>50</td>\n",
       "      <td>0.0</td>\n",
       "      <td>0.0</td>\n",
       "      <td>0.0</td>\n",
       "      <td>0.0</td>\n",
       "      <td>1.0</td>\n",
       "      <td>...</td>\n",
       "      <td>0.0</td>\n",
       "      <td>0.0</td>\n",
       "      <td>0.0</td>\n",
       "      <td>0.0</td>\n",
       "      <td>0.0</td>\n",
       "      <td>0.0</td>\n",
       "      <td>0.0</td>\n",
       "      <td>1.0</td>\n",
       "      <td>0.0</td>\n",
       "      <td>1.0</td>\n",
       "    </tr>\n",
       "    <tr>\n",
       "      <th>47619</th>\n",
       "      <td>48840</td>\n",
       "      <td>44</td>\n",
       "      <td>5455</td>\n",
       "      <td>0</td>\n",
       "      <td>40</td>\n",
       "      <td>0.0</td>\n",
       "      <td>0.0</td>\n",
       "      <td>0.0</td>\n",
       "      <td>0.0</td>\n",
       "      <td>1.0</td>\n",
       "      <td>...</td>\n",
       "      <td>1.0</td>\n",
       "      <td>0.0</td>\n",
       "      <td>0.0</td>\n",
       "      <td>0.0</td>\n",
       "      <td>1.0</td>\n",
       "      <td>0.0</td>\n",
       "      <td>0.0</td>\n",
       "      <td>0.0</td>\n",
       "      <td>0.0</td>\n",
       "      <td>1.0</td>\n",
       "    </tr>\n",
       "    <tr>\n",
       "      <th>47620</th>\n",
       "      <td>48841</td>\n",
       "      <td>35</td>\n",
       "      <td>0</td>\n",
       "      <td>0</td>\n",
       "      <td>60</td>\n",
       "      <td>0.0</td>\n",
       "      <td>0.0</td>\n",
       "      <td>0.0</td>\n",
       "      <td>0.0</td>\n",
       "      <td>0.0</td>\n",
       "      <td>...</td>\n",
       "      <td>0.0</td>\n",
       "      <td>0.0</td>\n",
       "      <td>0.0</td>\n",
       "      <td>0.0</td>\n",
       "      <td>0.0</td>\n",
       "      <td>0.0</td>\n",
       "      <td>0.0</td>\n",
       "      <td>1.0</td>\n",
       "      <td>0.0</td>\n",
       "      <td>1.0</td>\n",
       "    </tr>\n",
       "  </tbody>\n",
       "</table>\n",
       "<p>47621 rows × 65 columns</p>\n",
       "</div>"
      ],
      "text/plain": [
       "       index  age  capital-gain  capital-loss  hours-per-week  workclass:?  \\\n",
       "0          0   39          2174             0              40          0.0   \n",
       "1          1   50             0             0              13          0.0   \n",
       "2          2   38             0             0              40          0.0   \n",
       "3          3   53             0             0              40          0.0   \n",
       "4          4   28             0             0              40          0.0   \n",
       "...      ...  ...           ...           ...             ...          ...   \n",
       "47616  48836   33             0             0              40          0.0   \n",
       "47617  48837   39             0             0              36          0.0   \n",
       "47618  48839   38             0             0              50          0.0   \n",
       "47619  48840   44          5455             0              40          0.0   \n",
       "47620  48841   35             0             0              60          0.0   \n",
       "\n",
       "       workclass:Federal-gov  workclass:Local-gov  workclass:Never-worked  \\\n",
       "0                        0.0                  0.0                     0.0   \n",
       "1                        0.0                  0.0                     0.0   \n",
       "2                        0.0                  0.0                     0.0   \n",
       "3                        0.0                  0.0                     0.0   \n",
       "4                        0.0                  0.0                     0.0   \n",
       "...                      ...                  ...                     ...   \n",
       "47616                    0.0                  0.0                     0.0   \n",
       "47617                    0.0                  0.0                     0.0   \n",
       "47618                    0.0                  0.0                     0.0   \n",
       "47619                    0.0                  0.0                     0.0   \n",
       "47620                    0.0                  0.0                     0.0   \n",
       "\n",
       "       workclass:Private  ...  relationship:Own-child  relationship:Unmarried  \\\n",
       "0                    0.0  ...                     0.0                     0.0   \n",
       "1                    0.0  ...                     0.0                     0.0   \n",
       "2                    1.0  ...                     0.0                     0.0   \n",
       "3                    1.0  ...                     0.0                     0.0   \n",
       "4                    1.0  ...                     0.0                     0.0   \n",
       "...                  ...  ...                     ...                     ...   \n",
       "47616                1.0  ...                     1.0                     0.0   \n",
       "47617                1.0  ...                     0.0                     0.0   \n",
       "47618                1.0  ...                     0.0                     0.0   \n",
       "47619                1.0  ...                     1.0                     0.0   \n",
       "47620                0.0  ...                     0.0                     0.0   \n",
       "\n",
       "       relationship:Wife  race:Amer-Indian-Eskimo  race:Asian-Pac-Islander  \\\n",
       "0                    0.0                      0.0                      0.0   \n",
       "1                    0.0                      0.0                      0.0   \n",
       "2                    0.0                      0.0                      0.0   \n",
       "3                    0.0                      0.0                      0.0   \n",
       "4                    1.0                      0.0                      0.0   \n",
       "...                  ...                      ...                      ...   \n",
       "47616                0.0                      0.0                      0.0   \n",
       "47617                0.0                      0.0                      0.0   \n",
       "47618                0.0                      0.0                      0.0   \n",
       "47619                0.0                      0.0                      1.0   \n",
       "47620                0.0                      0.0                      0.0   \n",
       "\n",
       "       race:Black  race:Other  race:White  sex:Female  sex:Male  \n",
       "0             0.0         0.0         1.0         0.0       1.0  \n",
       "1             0.0         0.0         1.0         0.0       1.0  \n",
       "2             0.0         0.0         1.0         0.0       1.0  \n",
       "3             1.0         0.0         0.0         0.0       1.0  \n",
       "4             1.0         0.0         0.0         1.0       0.0  \n",
       "...           ...         ...         ...         ...       ...  \n",
       "47616         0.0         0.0         1.0         0.0       1.0  \n",
       "47617         0.0         0.0         1.0         1.0       0.0  \n",
       "47618         0.0         0.0         1.0         0.0       1.0  \n",
       "47619         0.0         0.0         0.0         0.0       1.0  \n",
       "47620         0.0         0.0         1.0         0.0       1.0  \n",
       "\n",
       "[47621 rows x 65 columns]"
      ]
     },
     "execution_count": 5,
     "metadata": {},
     "output_type": "execute_result"
    }
   ],
   "source": [
    "from sklearn.preprocessing import OneHotEncoder\n",
    "encoder = OneHotEncoder()\n",
    "\n",
    "liste = [\"workclass\", \"education\", \"marital-status\", \"occupation\", \"relationship\", \"race\", \"sex\"]\n",
    "X4 = X3.drop(columns = liste)\n",
    "\n",
    "for v in liste:\n",
    "    enc = encoder.fit(X3[[v]])\n",
    "    enc_df = pandas.DataFrame(enc.transform(X3[[v]]).toarray(), columns = [v+\":\"+str(c) for c in enc.categories_[0]])\n",
    "    X4 = pandas.concat([X4, enc_df], axis = 1)\n",
    "\n",
    "X4"
   ]
  },
  {
   "cell_type": "markdown",
   "metadata": {},
   "source": [
    "### Binariser les variables `capital-gain` et `capital-loss`"
   ]
  },
  {
   "cell_type": "code",
   "execution_count": 6,
   "metadata": {},
   "outputs": [
    {
     "data": {
      "text/html": [
       "<div>\n",
       "<style scoped>\n",
       "    .dataframe tbody tr th:only-of-type {\n",
       "        vertical-align: middle;\n",
       "    }\n",
       "\n",
       "    .dataframe tbody tr th {\n",
       "        vertical-align: top;\n",
       "    }\n",
       "\n",
       "    .dataframe thead th {\n",
       "        text-align: right;\n",
       "    }\n",
       "</style>\n",
       "<table border=\"1\" class=\"dataframe\">\n",
       "  <thead>\n",
       "    <tr style=\"text-align: right;\">\n",
       "      <th></th>\n",
       "      <th>index</th>\n",
       "      <th>age</th>\n",
       "      <th>hours-per-week</th>\n",
       "      <th>workclass:?</th>\n",
       "      <th>workclass:Federal-gov</th>\n",
       "      <th>workclass:Local-gov</th>\n",
       "      <th>workclass:Never-worked</th>\n",
       "      <th>workclass:Private</th>\n",
       "      <th>workclass:Self-emp-inc</th>\n",
       "      <th>workclass:Self-emp-not-inc</th>\n",
       "      <th>...</th>\n",
       "      <th>relationship:Wife</th>\n",
       "      <th>race:Amer-Indian-Eskimo</th>\n",
       "      <th>race:Asian-Pac-Islander</th>\n",
       "      <th>race:Black</th>\n",
       "      <th>race:Other</th>\n",
       "      <th>race:White</th>\n",
       "      <th>sex:Female</th>\n",
       "      <th>sex:Male</th>\n",
       "      <th>capital_gain</th>\n",
       "      <th>capital_loss</th>\n",
       "    </tr>\n",
       "  </thead>\n",
       "  <tbody>\n",
       "    <tr>\n",
       "      <th>0</th>\n",
       "      <td>0</td>\n",
       "      <td>39</td>\n",
       "      <td>40</td>\n",
       "      <td>0.0</td>\n",
       "      <td>0.0</td>\n",
       "      <td>0.0</td>\n",
       "      <td>0.0</td>\n",
       "      <td>0.0</td>\n",
       "      <td>0.0</td>\n",
       "      <td>0.0</td>\n",
       "      <td>...</td>\n",
       "      <td>0.0</td>\n",
       "      <td>0.0</td>\n",
       "      <td>0.0</td>\n",
       "      <td>0.0</td>\n",
       "      <td>0.0</td>\n",
       "      <td>1.0</td>\n",
       "      <td>0.0</td>\n",
       "      <td>1.0</td>\n",
       "      <td>True</td>\n",
       "      <td>False</td>\n",
       "    </tr>\n",
       "    <tr>\n",
       "      <th>1</th>\n",
       "      <td>1</td>\n",
       "      <td>50</td>\n",
       "      <td>13</td>\n",
       "      <td>0.0</td>\n",
       "      <td>0.0</td>\n",
       "      <td>0.0</td>\n",
       "      <td>0.0</td>\n",
       "      <td>0.0</td>\n",
       "      <td>0.0</td>\n",
       "      <td>1.0</td>\n",
       "      <td>...</td>\n",
       "      <td>0.0</td>\n",
       "      <td>0.0</td>\n",
       "      <td>0.0</td>\n",
       "      <td>0.0</td>\n",
       "      <td>0.0</td>\n",
       "      <td>1.0</td>\n",
       "      <td>0.0</td>\n",
       "      <td>1.0</td>\n",
       "      <td>False</td>\n",
       "      <td>False</td>\n",
       "    </tr>\n",
       "    <tr>\n",
       "      <th>2</th>\n",
       "      <td>2</td>\n",
       "      <td>38</td>\n",
       "      <td>40</td>\n",
       "      <td>0.0</td>\n",
       "      <td>0.0</td>\n",
       "      <td>0.0</td>\n",
       "      <td>0.0</td>\n",
       "      <td>1.0</td>\n",
       "      <td>0.0</td>\n",
       "      <td>0.0</td>\n",
       "      <td>...</td>\n",
       "      <td>0.0</td>\n",
       "      <td>0.0</td>\n",
       "      <td>0.0</td>\n",
       "      <td>0.0</td>\n",
       "      <td>0.0</td>\n",
       "      <td>1.0</td>\n",
       "      <td>0.0</td>\n",
       "      <td>1.0</td>\n",
       "      <td>False</td>\n",
       "      <td>False</td>\n",
       "    </tr>\n",
       "    <tr>\n",
       "      <th>3</th>\n",
       "      <td>3</td>\n",
       "      <td>53</td>\n",
       "      <td>40</td>\n",
       "      <td>0.0</td>\n",
       "      <td>0.0</td>\n",
       "      <td>0.0</td>\n",
       "      <td>0.0</td>\n",
       "      <td>1.0</td>\n",
       "      <td>0.0</td>\n",
       "      <td>0.0</td>\n",
       "      <td>...</td>\n",
       "      <td>0.0</td>\n",
       "      <td>0.0</td>\n",
       "      <td>0.0</td>\n",
       "      <td>1.0</td>\n",
       "      <td>0.0</td>\n",
       "      <td>0.0</td>\n",
       "      <td>0.0</td>\n",
       "      <td>1.0</td>\n",
       "      <td>False</td>\n",
       "      <td>False</td>\n",
       "    </tr>\n",
       "    <tr>\n",
       "      <th>4</th>\n",
       "      <td>4</td>\n",
       "      <td>28</td>\n",
       "      <td>40</td>\n",
       "      <td>0.0</td>\n",
       "      <td>0.0</td>\n",
       "      <td>0.0</td>\n",
       "      <td>0.0</td>\n",
       "      <td>1.0</td>\n",
       "      <td>0.0</td>\n",
       "      <td>0.0</td>\n",
       "      <td>...</td>\n",
       "      <td>1.0</td>\n",
       "      <td>0.0</td>\n",
       "      <td>0.0</td>\n",
       "      <td>1.0</td>\n",
       "      <td>0.0</td>\n",
       "      <td>0.0</td>\n",
       "      <td>1.0</td>\n",
       "      <td>0.0</td>\n",
       "      <td>False</td>\n",
       "      <td>False</td>\n",
       "    </tr>\n",
       "    <tr>\n",
       "      <th>...</th>\n",
       "      <td>...</td>\n",
       "      <td>...</td>\n",
       "      <td>...</td>\n",
       "      <td>...</td>\n",
       "      <td>...</td>\n",
       "      <td>...</td>\n",
       "      <td>...</td>\n",
       "      <td>...</td>\n",
       "      <td>...</td>\n",
       "      <td>...</td>\n",
       "      <td>...</td>\n",
       "      <td>...</td>\n",
       "      <td>...</td>\n",
       "      <td>...</td>\n",
       "      <td>...</td>\n",
       "      <td>...</td>\n",
       "      <td>...</td>\n",
       "      <td>...</td>\n",
       "      <td>...</td>\n",
       "      <td>...</td>\n",
       "      <td>...</td>\n",
       "    </tr>\n",
       "    <tr>\n",
       "      <th>47616</th>\n",
       "      <td>48836</td>\n",
       "      <td>33</td>\n",
       "      <td>40</td>\n",
       "      <td>0.0</td>\n",
       "      <td>0.0</td>\n",
       "      <td>0.0</td>\n",
       "      <td>0.0</td>\n",
       "      <td>1.0</td>\n",
       "      <td>0.0</td>\n",
       "      <td>0.0</td>\n",
       "      <td>...</td>\n",
       "      <td>0.0</td>\n",
       "      <td>0.0</td>\n",
       "      <td>0.0</td>\n",
       "      <td>0.0</td>\n",
       "      <td>0.0</td>\n",
       "      <td>1.0</td>\n",
       "      <td>0.0</td>\n",
       "      <td>1.0</td>\n",
       "      <td>False</td>\n",
       "      <td>False</td>\n",
       "    </tr>\n",
       "    <tr>\n",
       "      <th>47617</th>\n",
       "      <td>48837</td>\n",
       "      <td>39</td>\n",
       "      <td>36</td>\n",
       "      <td>0.0</td>\n",
       "      <td>0.0</td>\n",
       "      <td>0.0</td>\n",
       "      <td>0.0</td>\n",
       "      <td>1.0</td>\n",
       "      <td>0.0</td>\n",
       "      <td>0.0</td>\n",
       "      <td>...</td>\n",
       "      <td>0.0</td>\n",
       "      <td>0.0</td>\n",
       "      <td>0.0</td>\n",
       "      <td>0.0</td>\n",
       "      <td>0.0</td>\n",
       "      <td>1.0</td>\n",
       "      <td>1.0</td>\n",
       "      <td>0.0</td>\n",
       "      <td>False</td>\n",
       "      <td>False</td>\n",
       "    </tr>\n",
       "    <tr>\n",
       "      <th>47618</th>\n",
       "      <td>48839</td>\n",
       "      <td>38</td>\n",
       "      <td>50</td>\n",
       "      <td>0.0</td>\n",
       "      <td>0.0</td>\n",
       "      <td>0.0</td>\n",
       "      <td>0.0</td>\n",
       "      <td>1.0</td>\n",
       "      <td>0.0</td>\n",
       "      <td>0.0</td>\n",
       "      <td>...</td>\n",
       "      <td>0.0</td>\n",
       "      <td>0.0</td>\n",
       "      <td>0.0</td>\n",
       "      <td>0.0</td>\n",
       "      <td>0.0</td>\n",
       "      <td>1.0</td>\n",
       "      <td>0.0</td>\n",
       "      <td>1.0</td>\n",
       "      <td>False</td>\n",
       "      <td>False</td>\n",
       "    </tr>\n",
       "    <tr>\n",
       "      <th>47619</th>\n",
       "      <td>48840</td>\n",
       "      <td>44</td>\n",
       "      <td>40</td>\n",
       "      <td>0.0</td>\n",
       "      <td>0.0</td>\n",
       "      <td>0.0</td>\n",
       "      <td>0.0</td>\n",
       "      <td>1.0</td>\n",
       "      <td>0.0</td>\n",
       "      <td>0.0</td>\n",
       "      <td>...</td>\n",
       "      <td>0.0</td>\n",
       "      <td>0.0</td>\n",
       "      <td>1.0</td>\n",
       "      <td>0.0</td>\n",
       "      <td>0.0</td>\n",
       "      <td>0.0</td>\n",
       "      <td>0.0</td>\n",
       "      <td>1.0</td>\n",
       "      <td>True</td>\n",
       "      <td>False</td>\n",
       "    </tr>\n",
       "    <tr>\n",
       "      <th>47620</th>\n",
       "      <td>48841</td>\n",
       "      <td>35</td>\n",
       "      <td>60</td>\n",
       "      <td>0.0</td>\n",
       "      <td>0.0</td>\n",
       "      <td>0.0</td>\n",
       "      <td>0.0</td>\n",
       "      <td>0.0</td>\n",
       "      <td>1.0</td>\n",
       "      <td>0.0</td>\n",
       "      <td>...</td>\n",
       "      <td>0.0</td>\n",
       "      <td>0.0</td>\n",
       "      <td>0.0</td>\n",
       "      <td>0.0</td>\n",
       "      <td>0.0</td>\n",
       "      <td>1.0</td>\n",
       "      <td>0.0</td>\n",
       "      <td>1.0</td>\n",
       "      <td>False</td>\n",
       "      <td>False</td>\n",
       "    </tr>\n",
       "  </tbody>\n",
       "</table>\n",
       "<p>47621 rows × 65 columns</p>\n",
       "</div>"
      ],
      "text/plain": [
       "       index  age  hours-per-week  workclass:?  workclass:Federal-gov  \\\n",
       "0          0   39              40          0.0                    0.0   \n",
       "1          1   50              13          0.0                    0.0   \n",
       "2          2   38              40          0.0                    0.0   \n",
       "3          3   53              40          0.0                    0.0   \n",
       "4          4   28              40          0.0                    0.0   \n",
       "...      ...  ...             ...          ...                    ...   \n",
       "47616  48836   33              40          0.0                    0.0   \n",
       "47617  48837   39              36          0.0                    0.0   \n",
       "47618  48839   38              50          0.0                    0.0   \n",
       "47619  48840   44              40          0.0                    0.0   \n",
       "47620  48841   35              60          0.0                    0.0   \n",
       "\n",
       "       workclass:Local-gov  workclass:Never-worked  workclass:Private  \\\n",
       "0                      0.0                     0.0                0.0   \n",
       "1                      0.0                     0.0                0.0   \n",
       "2                      0.0                     0.0                1.0   \n",
       "3                      0.0                     0.0                1.0   \n",
       "4                      0.0                     0.0                1.0   \n",
       "...                    ...                     ...                ...   \n",
       "47616                  0.0                     0.0                1.0   \n",
       "47617                  0.0                     0.0                1.0   \n",
       "47618                  0.0                     0.0                1.0   \n",
       "47619                  0.0                     0.0                1.0   \n",
       "47620                  0.0                     0.0                0.0   \n",
       "\n",
       "       workclass:Self-emp-inc  workclass:Self-emp-not-inc  ...  \\\n",
       "0                         0.0                         0.0  ...   \n",
       "1                         0.0                         1.0  ...   \n",
       "2                         0.0                         0.0  ...   \n",
       "3                         0.0                         0.0  ...   \n",
       "4                         0.0                         0.0  ...   \n",
       "...                       ...                         ...  ...   \n",
       "47616                     0.0                         0.0  ...   \n",
       "47617                     0.0                         0.0  ...   \n",
       "47618                     0.0                         0.0  ...   \n",
       "47619                     0.0                         0.0  ...   \n",
       "47620                     1.0                         0.0  ...   \n",
       "\n",
       "       relationship:Wife  race:Amer-Indian-Eskimo  race:Asian-Pac-Islander  \\\n",
       "0                    0.0                      0.0                      0.0   \n",
       "1                    0.0                      0.0                      0.0   \n",
       "2                    0.0                      0.0                      0.0   \n",
       "3                    0.0                      0.0                      0.0   \n",
       "4                    1.0                      0.0                      0.0   \n",
       "...                  ...                      ...                      ...   \n",
       "47616                0.0                      0.0                      0.0   \n",
       "47617                0.0                      0.0                      0.0   \n",
       "47618                0.0                      0.0                      0.0   \n",
       "47619                0.0                      0.0                      1.0   \n",
       "47620                0.0                      0.0                      0.0   \n",
       "\n",
       "       race:Black  race:Other  race:White  sex:Female  sex:Male  capital_gain  \\\n",
       "0             0.0         0.0         1.0         0.0       1.0          True   \n",
       "1             0.0         0.0         1.0         0.0       1.0         False   \n",
       "2             0.0         0.0         1.0         0.0       1.0         False   \n",
       "3             1.0         0.0         0.0         0.0       1.0         False   \n",
       "4             1.0         0.0         0.0         1.0       0.0         False   \n",
       "...           ...         ...         ...         ...       ...           ...   \n",
       "47616         0.0         0.0         1.0         0.0       1.0         False   \n",
       "47617         0.0         0.0         1.0         1.0       0.0         False   \n",
       "47618         0.0         0.0         1.0         0.0       1.0         False   \n",
       "47619         0.0         0.0         0.0         0.0       1.0          True   \n",
       "47620         0.0         0.0         1.0         0.0       1.0         False   \n",
       "\n",
       "       capital_loss  \n",
       "0             False  \n",
       "1             False  \n",
       "2             False  \n",
       "3             False  \n",
       "4             False  \n",
       "...             ...  \n",
       "47616         False  \n",
       "47617         False  \n",
       "47618         False  \n",
       "47619         False  \n",
       "47620         False  \n",
       "\n",
       "[47621 rows x 65 columns]"
      ]
     },
     "execution_count": 6,
     "metadata": {},
     "output_type": "execute_result"
    }
   ],
   "source": [
    "X5 = X4.assign(capital_gain = (X4[\"capital-gain\"] > 0)) \\\n",
    "    .assign(capital_loss = (X4[\"capital-loss\"] > 0)) \\\n",
    "    .drop(columns = [\"capital-gain\", \"capital-loss\"])\n",
    "X5"
   ]
  },
  {
   "cell_type": "markdown",
   "metadata": {},
   "source": [
    "## Création de 2 jeux de données"
   ]
  },
  {
   "cell_type": "code",
   "execution_count": 7,
   "metadata": {},
   "outputs": [],
   "source": [
    "X_train = X5.sample(frac = .75)\n",
    "X_test = X5.drop(X_train.index)\n",
    "y_train = y.iloc[X_train.index]\n",
    "y_test = y.iloc[X_test.index]"
   ]
  },
  {
   "cell_type": "markdown",
   "metadata": {},
   "source": [
    "## Modélisation"
   ]
  },
  {
   "cell_type": "code",
   "execution_count": 8,
   "metadata": {},
   "outputs": [],
   "source": [
    "from sklearn.metrics import roc_curve, auc\n",
    "from sklearn.linear_model import LogisticRegression\n",
    "from sklearn.neighbors import KNeighborsClassifier\n",
    "from sklearn.tree import DecisionTreeClassifier, plot_tree\n",
    "from sklearn.neural_network import MLPClassifier"
   ]
  },
  {
   "cell_type": "markdown",
   "metadata": {},
   "source": [
    "### Régression logisitique"
   ]
  },
  {
   "cell_type": "code",
   "execution_count": 10,
   "metadata": {},
   "outputs": [],
   "source": [
    "m_log = LogisticRegression(max_iter = 10000).fit(X_train, y_train.income)"
   ]
  },
  {
   "cell_type": "markdown",
   "metadata": {},
   "source": [
    "#### Résultats sur `train`"
   ]
  },
  {
   "cell_type": "code",
   "execution_count": 13,
   "metadata": {},
   "outputs": [
    {
     "data": {
      "text/html": [
       "<div>\n",
       "<style scoped>\n",
       "    .dataframe tbody tr th:only-of-type {\n",
       "        vertical-align: middle;\n",
       "    }\n",
       "\n",
       "    .dataframe tbody tr th {\n",
       "        vertical-align: top;\n",
       "    }\n",
       "\n",
       "    .dataframe thead th {\n",
       "        text-align: right;\n",
       "    }\n",
       "</style>\n",
       "<table border=\"1\" class=\"dataframe\">\n",
       "  <thead>\n",
       "    <tr style=\"text-align: right;\">\n",
       "      <th>income</th>\n",
       "      <th>&lt;=50K</th>\n",
       "      <th>&gt;50K</th>\n",
       "    </tr>\n",
       "    <tr>\n",
       "      <th>row_0</th>\n",
       "      <th></th>\n",
       "      <th></th>\n",
       "    </tr>\n",
       "  </thead>\n",
       "  <tbody>\n",
       "    <tr>\n",
       "      <th>&lt;=50K</th>\n",
       "      <td>25629</td>\n",
       "      <td>6108</td>\n",
       "    </tr>\n",
       "    <tr>\n",
       "      <th>&gt;50K</th>\n",
       "      <td>1562</td>\n",
       "      <td>2417</td>\n",
       "    </tr>\n",
       "  </tbody>\n",
       "</table>\n",
       "</div>"
      ],
      "text/plain": [
       "income  <=50K  >50K\n",
       "row_0              \n",
       "<=50K   25629  6108\n",
       ">50K     1562  2417"
      ]
     },
     "execution_count": 13,
     "metadata": {},
     "output_type": "execute_result"
    }
   ],
   "source": [
    "pandas.crosstab(m_log.predict(X_train), y_train.income)"
   ]
  },
  {
   "cell_type": "code",
   "execution_count": 14,
   "metadata": {},
   "outputs": [
    {
     "data": {
      "text/plain": [
       "0.7852503079852167"
      ]
     },
     "execution_count": 14,
     "metadata": {},
     "output_type": "execute_result"
    }
   ],
   "source": [
    "m_log.score(X_train, y_train.income)"
   ]
  },
  {
   "cell_type": "markdown",
   "metadata": {},
   "source": [
    "#### Résultats sur `test`"
   ]
  },
  {
   "cell_type": "code",
   "execution_count": 15,
   "metadata": {},
   "outputs": [
    {
     "data": {
      "text/html": [
       "<div>\n",
       "<style scoped>\n",
       "    .dataframe tbody tr th:only-of-type {\n",
       "        vertical-align: middle;\n",
       "    }\n",
       "\n",
       "    .dataframe tbody tr th {\n",
       "        vertical-align: top;\n",
       "    }\n",
       "\n",
       "    .dataframe thead th {\n",
       "        text-align: right;\n",
       "    }\n",
       "</style>\n",
       "<table border=\"1\" class=\"dataframe\">\n",
       "  <thead>\n",
       "    <tr style=\"text-align: right;\">\n",
       "      <th>income</th>\n",
       "      <th>&lt;=50K</th>\n",
       "      <th>&gt;50K</th>\n",
       "    </tr>\n",
       "    <tr>\n",
       "      <th>row_0</th>\n",
       "      <th></th>\n",
       "      <th></th>\n",
       "    </tr>\n",
       "  </thead>\n",
       "  <tbody>\n",
       "    <tr>\n",
       "      <th>&lt;=50K</th>\n",
       "      <td>8504</td>\n",
       "      <td>2082</td>\n",
       "    </tr>\n",
       "    <tr>\n",
       "      <th>&gt;50K</th>\n",
       "      <td>507</td>\n",
       "      <td>812</td>\n",
       "    </tr>\n",
       "  </tbody>\n",
       "</table>\n",
       "</div>"
      ],
      "text/plain": [
       "income  <=50K  >50K\n",
       "row_0              \n",
       "<=50K    8504  2082\n",
       ">50K      507   812"
      ]
     },
     "execution_count": 15,
     "metadata": {},
     "output_type": "execute_result"
    }
   ],
   "source": [
    "pandas.crosstab(m_log.predict(X_test), y_test.income)"
   ]
  },
  {
   "cell_type": "code",
   "execution_count": 16,
   "metadata": {},
   "outputs": [
    {
     "data": {
      "text/plain": [
       "0.7825283494330113"
      ]
     },
     "execution_count": 16,
     "metadata": {},
     "output_type": "execute_result"
    }
   ],
   "source": [
    "m_log.score(X_test, y_test.income)"
   ]
  },
  {
   "cell_type": "markdown",
   "metadata": {},
   "source": [
    "### $k$ plus proches voisins"
   ]
  },
  {
   "cell_type": "code",
   "execution_count": 18,
   "metadata": {},
   "outputs": [
    {
     "data": {
      "text/html": [
       "<div>\n",
       "<style scoped>\n",
       "    .dataframe tbody tr th:only-of-type {\n",
       "        vertical-align: middle;\n",
       "    }\n",
       "\n",
       "    .dataframe tbody tr th {\n",
       "        vertical-align: top;\n",
       "    }\n",
       "\n",
       "    .dataframe thead th {\n",
       "        text-align: right;\n",
       "    }\n",
       "</style>\n",
       "<table border=\"1\" class=\"dataframe\">\n",
       "  <thead>\n",
       "    <tr style=\"text-align: right;\">\n",
       "      <th></th>\n",
       "      <th>variable</th>\n",
       "      <th>r2 train</th>\n",
       "      <th>r2 test</th>\n",
       "    </tr>\n",
       "  </thead>\n",
       "  <tbody>\n",
       "    <tr>\n",
       "      <th>0</th>\n",
       "      <td>1</td>\n",
       "      <td>1.000000</td>\n",
       "      <td>0.661823</td>\n",
       "    </tr>\n",
       "    <tr>\n",
       "      <th>1</th>\n",
       "      <td>2</td>\n",
       "      <td>0.835340</td>\n",
       "      <td>0.732969</td>\n",
       "    </tr>\n",
       "    <tr>\n",
       "      <th>2</th>\n",
       "      <td>3</td>\n",
       "      <td>0.836264</td>\n",
       "      <td>0.705166</td>\n",
       "    </tr>\n",
       "    <tr>\n",
       "      <th>3</th>\n",
       "      <td>4</td>\n",
       "      <td>0.802217</td>\n",
       "      <td>0.738345</td>\n",
       "    </tr>\n",
       "    <tr>\n",
       "      <th>4</th>\n",
       "      <td>5</td>\n",
       "      <td>0.802609</td>\n",
       "      <td>0.722134</td>\n",
       "    </tr>\n",
       "    <tr>\n",
       "      <th>5</th>\n",
       "      <td>10</td>\n",
       "      <td>0.774331</td>\n",
       "      <td>0.748845</td>\n",
       "    </tr>\n",
       "    <tr>\n",
       "      <th>6</th>\n",
       "      <td>15</td>\n",
       "      <td>0.769879</td>\n",
       "      <td>0.750105</td>\n",
       "    </tr>\n",
       "    <tr>\n",
       "      <th>7</th>\n",
       "      <td>20</td>\n",
       "      <td>0.764839</td>\n",
       "      <td>0.756153</td>\n",
       "    </tr>\n",
       "    <tr>\n",
       "      <th>8</th>\n",
       "      <td>25</td>\n",
       "      <td>0.762431</td>\n",
       "      <td>0.756237</td>\n",
       "    </tr>\n",
       "    <tr>\n",
       "      <th>9</th>\n",
       "      <td>30</td>\n",
       "      <td>0.761675</td>\n",
       "      <td>0.756909</td>\n",
       "    </tr>\n",
       "    <tr>\n",
       "      <th>10</th>\n",
       "      <td>40</td>\n",
       "      <td>0.761339</td>\n",
       "      <td>0.756825</td>\n",
       "    </tr>\n",
       "    <tr>\n",
       "      <th>11</th>\n",
       "      <td>50</td>\n",
       "      <td>0.761339</td>\n",
       "      <td>0.756909</td>\n",
       "    </tr>\n",
       "  </tbody>\n",
       "</table>\n",
       "</div>"
      ],
      "text/plain": [
       "    variable  r2 train   r2 test\n",
       "0          1  1.000000  0.661823\n",
       "1          2  0.835340  0.732969\n",
       "2          3  0.836264  0.705166\n",
       "3          4  0.802217  0.738345\n",
       "4          5  0.802609  0.722134\n",
       "5         10  0.774331  0.748845\n",
       "6         15  0.769879  0.750105\n",
       "7         20  0.764839  0.756153\n",
       "8         25  0.762431  0.756237\n",
       "9         30  0.761675  0.756909\n",
       "10        40  0.761339  0.756825\n",
       "11        50  0.761339  0.756909"
      ]
     },
     "execution_count": 18,
     "metadata": {},
     "output_type": "execute_result"
    }
   ],
   "source": [
    "r2_train = []\n",
    "r2_test = []\n",
    "\n",
    "k_val = (1, 2, 3, 4, 5, 10, 15, 20, 25, 30, 40, 50)\n",
    "for k in k_val:\n",
    "    m_knn = KNeighborsClassifier(n_neighbors = k).fit(X_train, y_train.income)\n",
    "    r2_train = r2_train + [m_knn.score(X_train, y_train.income)]\n",
    "    r2_test  = r2_test  + [m_knn.score(X_test,  y_test.income)]\n",
    "    \n",
    "df = pandas.DataFrame({\n",
    "    \"variable\": k_val,\n",
    "    \"r2 train\": r2_train,\n",
    "    \"r2 test\": r2_test\n",
    "})\n",
    "df"
   ]
  },
  {
   "cell_type": "code",
   "execution_count": 19,
   "metadata": {},
   "outputs": [],
   "source": [
    "m_knn = KNeighborsClassifier(n_neighbors = 20).fit(X_train, y_train.income)"
   ]
  },
  {
   "cell_type": "markdown",
   "metadata": {},
   "source": [
    "#### Résultats sur `train`"
   ]
  },
  {
   "cell_type": "code",
   "execution_count": 20,
   "metadata": {},
   "outputs": [
    {
     "data": {
      "text/html": [
       "<div>\n",
       "<style scoped>\n",
       "    .dataframe tbody tr th:only-of-type {\n",
       "        vertical-align: middle;\n",
       "    }\n",
       "\n",
       "    .dataframe tbody tr th {\n",
       "        vertical-align: top;\n",
       "    }\n",
       "\n",
       "    .dataframe thead th {\n",
       "        text-align: right;\n",
       "    }\n",
       "</style>\n",
       "<table border=\"1\" class=\"dataframe\">\n",
       "  <thead>\n",
       "    <tr style=\"text-align: right;\">\n",
       "      <th>income</th>\n",
       "      <th>&lt;=50K</th>\n",
       "      <th>&gt;50K</th>\n",
       "    </tr>\n",
       "    <tr>\n",
       "      <th>row_0</th>\n",
       "      <th></th>\n",
       "      <th></th>\n",
       "    </tr>\n",
       "  </thead>\n",
       "  <tbody>\n",
       "    <tr>\n",
       "      <th>&lt;=50K</th>\n",
       "      <td>27029</td>\n",
       "      <td>8237</td>\n",
       "    </tr>\n",
       "    <tr>\n",
       "      <th>&gt;50K</th>\n",
       "      <td>162</td>\n",
       "      <td>288</td>\n",
       "    </tr>\n",
       "  </tbody>\n",
       "</table>\n",
       "</div>"
      ],
      "text/plain": [
       "income  <=50K  >50K\n",
       "row_0              \n",
       "<=50K   27029  8237\n",
       ">50K      162   288"
      ]
     },
     "execution_count": 20,
     "metadata": {},
     "output_type": "execute_result"
    }
   ],
   "source": [
    "pandas.crosstab(m_knn.predict(X_train), y_train.income)"
   ]
  },
  {
   "cell_type": "code",
   "execution_count": 21,
   "metadata": {},
   "outputs": [
    {
     "data": {
      "text/plain": [
       "0.7648392877141897"
      ]
     },
     "execution_count": 21,
     "metadata": {},
     "output_type": "execute_result"
    }
   ],
   "source": [
    "m_knn.score(X_train, y_train.income)"
   ]
  },
  {
   "cell_type": "markdown",
   "metadata": {},
   "source": [
    "#### Résultats sur `test`"
   ]
  },
  {
   "cell_type": "code",
   "execution_count": 22,
   "metadata": {},
   "outputs": [
    {
     "data": {
      "text/html": [
       "<div>\n",
       "<style scoped>\n",
       "    .dataframe tbody tr th:only-of-type {\n",
       "        vertical-align: middle;\n",
       "    }\n",
       "\n",
       "    .dataframe tbody tr th {\n",
       "        vertical-align: top;\n",
       "    }\n",
       "\n",
       "    .dataframe thead th {\n",
       "        text-align: right;\n",
       "    }\n",
       "</style>\n",
       "<table border=\"1\" class=\"dataframe\">\n",
       "  <thead>\n",
       "    <tr style=\"text-align: right;\">\n",
       "      <th>income</th>\n",
       "      <th>&lt;=50K</th>\n",
       "      <th>&gt;50K</th>\n",
       "    </tr>\n",
       "    <tr>\n",
       "      <th>row_0</th>\n",
       "      <th></th>\n",
       "      <th></th>\n",
       "    </tr>\n",
       "  </thead>\n",
       "  <tbody>\n",
       "    <tr>\n",
       "      <th>&lt;=50K</th>\n",
       "      <td>8953</td>\n",
       "      <td>2845</td>\n",
       "    </tr>\n",
       "    <tr>\n",
       "      <th>&gt;50K</th>\n",
       "      <td>58</td>\n",
       "      <td>49</td>\n",
       "    </tr>\n",
       "  </tbody>\n",
       "</table>\n",
       "</div>"
      ],
      "text/plain": [
       "income  <=50K  >50K\n",
       "row_0              \n",
       "<=50K    8953  2845\n",
       ">50K       58    49"
      ]
     },
     "execution_count": 22,
     "metadata": {},
     "output_type": "execute_result"
    }
   ],
   "source": [
    "pandas.crosstab(m_knn.predict(X_test), y_test.income)"
   ]
  },
  {
   "cell_type": "code",
   "execution_count": 23,
   "metadata": {},
   "outputs": [
    {
     "data": {
      "text/plain": [
       "0.7561528769424611"
      ]
     },
     "execution_count": 23,
     "metadata": {},
     "output_type": "execute_result"
    }
   ],
   "source": [
    "m_knn.score(X_test, y_test.income)"
   ]
  },
  {
   "cell_type": "markdown",
   "metadata": {},
   "source": [
    "### CART"
   ]
  },
  {
   "cell_type": "code",
   "execution_count": 24,
   "metadata": {},
   "outputs": [],
   "source": [
    "m_tree = DecisionTreeClassifier().fit(X_train, y_train.income)"
   ]
  },
  {
   "cell_type": "code",
   "execution_count": 26,
   "metadata": {},
   "outputs": [
    {
     "data": {
      "image/png": "[encoded data removed]",
      "text/plain": [
       "<Figure size 432x288 with 1 Axes>"
      ]
     },
     "metadata": {
      "needs_background": "light"
     },
     "output_type": "display_data"
    }
   ],
   "source": [
    "import matplotlib.pyplot as plt\n",
    "\n",
    "pruning_train = m_tree.cost_complexity_pruning_path(X_train, y_train.income)\n",
    "pruning_test  = m_tree.cost_complexity_pruning_path(X_test, y_test.income)\n",
    "\n",
    "fig, ax = plt.subplots()\n",
    "ax.plot(pruning_train.ccp_alphas[:-1], pruning_train.impurities[:-1], marker=\"o\")\n",
    "ax.plot(pruning_test.ccp_alphas[:-1], pruning_test.impurities[:-1], marker=\"+\", color=\"red\")\n",
    "ax.set_xlabel(\"effective alpha\")\n",
    "ax.set_ylabel(\"total impurity of leaves\")\n",
    "ax.set_title(\"Total Impurity vs effective alpha for training set\")\n",
    "plt.show()"
   ]
  },
  {
   "cell_type": "markdown",
   "metadata": {},
   "source": [
    "#### Liste des arbres et performances sur les données `train` et `test`"
   ]
  },
  {
   "cell_type": "code",
   "execution_count": null,
   "metadata": {},
   "outputs": [],
   "source": [
    "clfs = []\n",
    "for ccp_alpha in pruning_train.ccp_alphas:\n",
    "    clf = DecisionTreeClassifier(random_state = 0, ccp_alpha=ccp_alpha)\n",
    "    clf.fit(X_train, y_train.income)\n",
    "    clfs.append(clf)"
   ]
  },
  {
   "cell_type": "code",
   "execution_count": null,
   "metadata": {},
   "outputs": [],
   "source": [
    "clfs = clfs[:-1]"
   ]
  },
  {
   "cell_type": "code",
   "execution_count": null,
   "metadata": {},
   "outputs": [],
   "source": [
    "train_scores = [clf.score(X_train, y_train.income) for clf in clfs]\n",
    "test_scores = [clf.score(X_test, y_test.income) for clf in clfs]"
   ]
  },
  {
   "cell_type": "code",
   "execution_count": 52,
   "metadata": {},
   "outputs": [
    {
     "data": {
      "image/png": "[encoded data removed]",
      "text/plain": [
       "<Figure size 432x288 with 1 Axes>"
      ]
     },
     "metadata": {
      "needs_background": "light"
     },
     "output_type": "display_data"
    }
   ],
   "source": [
    "fig, ax = plt.subplots()\n",
    "ax.set_xlabel(\"alpha\")\n",
    "ax.set_ylabel(\"accuracy\")\n",
    "ax.set_title(\"Accuracy vs alpha for training and testing sets\")\n",
    "ax.plot(pruning_train.ccp_alphas[], train_scores, marker=\"o\", label=\"train\", drawstyle=\"steps-post\")\n",
    "ax.plot(pruning_train.ccp_alphas[], test_scores, marker=\"o\", label=\"test\", drawstyle=\"steps-post\")\n",
    "ax.legend()\n",
    "plt.show()"
   ]
  },
  {
   "cell_type": "code",
   "execution_count": 32,
   "metadata": {},
   "outputs": [],
   "source": [
    "m_tree_elague = DecisionTreeClassifier(ccp_alpha=0.001).fit(X_train, y_train.income)"
   ]
  },
  {
   "cell_type": "markdown",
   "metadata": {},
   "source": [
    "#### Résultats sur `train`"
   ]
  },
  {
   "cell_type": "code",
   "execution_count": 33,
   "metadata": {},
   "outputs": [
    {
     "data": {
      "text/html": [
       "<div>\n",
       "<style scoped>\n",
       "    .dataframe tbody tr th:only-of-type {\n",
       "        vertical-align: middle;\n",
       "    }\n",
       "\n",
       "    .dataframe tbody tr th {\n",
       "        vertical-align: top;\n",
       "    }\n",
       "\n",
       "    .dataframe thead th {\n",
       "        text-align: right;\n",
       "    }\n",
       "</style>\n",
       "<table border=\"1\" class=\"dataframe\">\n",
       "  <thead>\n",
       "    <tr style=\"text-align: right;\">\n",
       "      <th>income</th>\n",
       "      <th>&lt;=50K</th>\n",
       "      <th>&gt;50K</th>\n",
       "    </tr>\n",
       "    <tr>\n",
       "      <th>row_0</th>\n",
       "      <th></th>\n",
       "      <th></th>\n",
       "    </tr>\n",
       "  </thead>\n",
       "  <tbody>\n",
       "    <tr>\n",
       "      <th>&lt;=50K</th>\n",
       "      <td>25359</td>\n",
       "      <td>5078</td>\n",
       "    </tr>\n",
       "    <tr>\n",
       "      <th>&gt;50K</th>\n",
       "      <td>1832</td>\n",
       "      <td>3447</td>\n",
       "    </tr>\n",
       "  </tbody>\n",
       "</table>\n",
       "</div>"
      ],
      "text/plain": [
       "income  <=50K  >50K\n",
       "row_0              \n",
       "<=50K   25359  5078\n",
       ">50K     1832  3447"
      ]
     },
     "execution_count": 33,
     "metadata": {},
     "output_type": "execute_result"
    }
   ],
   "source": [
    "pandas.crosstab(m_tree_elague.predict(X_train), y_train.income)"
   ]
  },
  {
   "cell_type": "code",
   "execution_count": 34,
   "metadata": {},
   "outputs": [
    {
     "data": {
      "text/plain": [
       "0.8065292865942435"
      ]
     },
     "execution_count": 34,
     "metadata": {},
     "output_type": "execute_result"
    }
   ],
   "source": [
    "m_tree_elague.score(X_train, y_train.income)"
   ]
  },
  {
   "cell_type": "markdown",
   "metadata": {},
   "source": [
    "#### Résultats sur `test`"
   ]
  },
  {
   "cell_type": "code",
   "execution_count": 35,
   "metadata": {},
   "outputs": [
    {
     "data": {
      "text/html": [
       "<div>\n",
       "<style scoped>\n",
       "    .dataframe tbody tr th:only-of-type {\n",
       "        vertical-align: middle;\n",
       "    }\n",
       "\n",
       "    .dataframe tbody tr th {\n",
       "        vertical-align: top;\n",
       "    }\n",
       "\n",
       "    .dataframe thead th {\n",
       "        text-align: right;\n",
       "    }\n",
       "</style>\n",
       "<table border=\"1\" class=\"dataframe\">\n",
       "  <thead>\n",
       "    <tr style=\"text-align: right;\">\n",
       "      <th>income</th>\n",
       "      <th>&lt;=50K</th>\n",
       "      <th>&gt;50K</th>\n",
       "    </tr>\n",
       "    <tr>\n",
       "      <th>row_0</th>\n",
       "      <th></th>\n",
       "      <th></th>\n",
       "    </tr>\n",
       "  </thead>\n",
       "  <tbody>\n",
       "    <tr>\n",
       "      <th>&lt;=50K</th>\n",
       "      <td>8435</td>\n",
       "      <td>1759</td>\n",
       "    </tr>\n",
       "    <tr>\n",
       "      <th>&gt;50K</th>\n",
       "      <td>576</td>\n",
       "      <td>1135</td>\n",
       "    </tr>\n",
       "  </tbody>\n",
       "</table>\n",
       "</div>"
      ],
      "text/plain": [
       "income  <=50K  >50K\n",
       "row_0              \n",
       "<=50K    8435  1759\n",
       ">50K      576  1135"
      ]
     },
     "execution_count": 35,
     "metadata": {},
     "output_type": "execute_result"
    }
   ],
   "source": [
    "pandas.crosstab(m_tree_elague.predict(X_test), y_test.income)"
   ]
  },
  {
   "cell_type": "code",
   "execution_count": 36,
   "metadata": {},
   "outputs": [
    {
     "data": {
      "text/plain": [
       "0.8038639227215456"
      ]
     },
     "execution_count": 36,
     "metadata": {},
     "output_type": "execute_result"
    }
   ],
   "source": [
    "m_tree_elague.score(X_test, y_test.income)"
   ]
  },
  {
   "cell_type": "markdown",
   "metadata": {},
   "source": [
    "### MLP"
   ]
  },
  {
   "cell_type": "code",
   "execution_count": 40,
   "metadata": {},
   "outputs": [
    {
     "name": "stderr",
     "output_type": "stream",
     "text": [
      "/usr/local/lib/python3.9/site-packages/sklearn/neural_network/_multilayer_perceptron.py:698: UserWarning: Training interrupted by user.\n",
      "  warnings.warn(\"Training interrupted by user.\")\n"
     ]
    },
    {
     "data": {
      "text/html": [
       "<div>\n",
       "<style scoped>\n",
       "    .dataframe tbody tr th:only-of-type {\n",
       "        vertical-align: middle;\n",
       "    }\n",
       "\n",
       "    .dataframe tbody tr th {\n",
       "        vertical-align: top;\n",
       "    }\n",
       "\n",
       "    .dataframe thead th {\n",
       "        text-align: right;\n",
       "    }\n",
       "</style>\n",
       "<table border=\"1\" class=\"dataframe\">\n",
       "  <thead>\n",
       "    <tr style=\"text-align: right;\">\n",
       "      <th></th>\n",
       "      <th>layers</th>\n",
       "      <th>r2 train</th>\n",
       "      <th>auc train</th>\n",
       "      <th>r2 test</th>\n",
       "      <th>auc test</th>\n",
       "    </tr>\n",
       "  </thead>\n",
       "  <tbody>\n",
       "    <tr>\n",
       "      <th>0</th>\n",
       "      <td>()</td>\n",
       "      <td>0.753024</td>\n",
       "      <td>0.774739</td>\n",
       "      <td>0.745653</td>\n",
       "      <td>0.767501</td>\n",
       "    </tr>\n",
       "    <tr>\n",
       "      <th>1</th>\n",
       "      <td>10</td>\n",
       "      <td>0.793230</td>\n",
       "      <td>0.738385</td>\n",
       "      <td>0.793784</td>\n",
       "      <td>0.733643</td>\n",
       "    </tr>\n",
       "    <tr>\n",
       "      <th>2</th>\n",
       "      <td>20</td>\n",
       "      <td>0.778671</td>\n",
       "      <td>0.644513</td>\n",
       "      <td>0.773961</td>\n",
       "      <td>0.641393</td>\n",
       "    </tr>\n",
       "    <tr>\n",
       "      <th>3</th>\n",
       "      <td>50</td>\n",
       "      <td>0.782562</td>\n",
       "      <td>0.639260</td>\n",
       "      <td>0.777236</td>\n",
       "      <td>0.636116</td>\n",
       "    </tr>\n",
       "    <tr>\n",
       "      <th>4</th>\n",
       "      <td>100</td>\n",
       "      <td>0.782198</td>\n",
       "      <td>0.642162</td>\n",
       "      <td>0.776816</td>\n",
       "      <td>0.639040</td>\n",
       "    </tr>\n",
       "    <tr>\n",
       "      <th>5</th>\n",
       "      <td>(10, 10)</td>\n",
       "      <td>0.761507</td>\n",
       "      <td>0.502038</td>\n",
       "      <td>0.756993</td>\n",
       "      <td>0.501219</td>\n",
       "    </tr>\n",
       "    <tr>\n",
       "      <th>6</th>\n",
       "      <td>(20, 20)</td>\n",
       "      <td>0.776683</td>\n",
       "      <td>0.764322</td>\n",
       "      <td>0.772365</td>\n",
       "      <td>0.757938</td>\n",
       "    </tr>\n",
       "    <tr>\n",
       "      <th>7</th>\n",
       "      <td>(50, 50)</td>\n",
       "      <td>0.777523</td>\n",
       "      <td>0.626683</td>\n",
       "      <td>0.772281</td>\n",
       "      <td>0.623652</td>\n",
       "    </tr>\n",
       "    <tr>\n",
       "      <th>8</th>\n",
       "      <td>(100, 100)</td>\n",
       "      <td>0.789114</td>\n",
       "      <td>0.669503</td>\n",
       "      <td>0.784460</td>\n",
       "      <td>0.664628</td>\n",
       "    </tr>\n",
       "    <tr>\n",
       "      <th>9</th>\n",
       "      <td>(10, 10, 10)</td>\n",
       "      <td>0.765679</td>\n",
       "      <td>0.775581</td>\n",
       "      <td>0.759009</td>\n",
       "      <td>0.767557</td>\n",
       "    </tr>\n",
       "    <tr>\n",
       "      <th>10</th>\n",
       "      <td>(20, 20, 20)</td>\n",
       "      <td>0.768423</td>\n",
       "      <td>0.568287</td>\n",
       "      <td>0.763377</td>\n",
       "      <td>0.565539</td>\n",
       "    </tr>\n",
       "    <tr>\n",
       "      <th>11</th>\n",
       "      <td>(50, 50, 50)</td>\n",
       "      <td>0.769711</td>\n",
       "      <td>0.672041</td>\n",
       "      <td>0.764637</td>\n",
       "      <td>0.667242</td>\n",
       "    </tr>\n",
       "    <tr>\n",
       "      <th>12</th>\n",
       "      <td>(100, 100, 100)</td>\n",
       "      <td>0.669140</td>\n",
       "      <td>0.700746</td>\n",
       "      <td>0.667703</td>\n",
       "      <td>0.697329</td>\n",
       "    </tr>\n",
       "  </tbody>\n",
       "</table>\n",
       "</div>"
      ],
      "text/plain": [
       "             layers  r2 train  auc train   r2 test  auc test\n",
       "0                ()  0.753024   0.774739  0.745653  0.767501\n",
       "1                10  0.793230   0.738385  0.793784  0.733643\n",
       "2                20  0.778671   0.644513  0.773961  0.641393\n",
       "3                50  0.782562   0.639260  0.777236  0.636116\n",
       "4               100  0.782198   0.642162  0.776816  0.639040\n",
       "5          (10, 10)  0.761507   0.502038  0.756993  0.501219\n",
       "6          (20, 20)  0.776683   0.764322  0.772365  0.757938\n",
       "7          (50, 50)  0.777523   0.626683  0.772281  0.623652\n",
       "8        (100, 100)  0.789114   0.669503  0.784460  0.664628\n",
       "9      (10, 10, 10)  0.765679   0.775581  0.759009  0.767557\n",
       "10     (20, 20, 20)  0.768423   0.568287  0.763377  0.565539\n",
       "11     (50, 50, 50)  0.769711   0.672041  0.764637  0.667242\n",
       "12  (100, 100, 100)  0.669140   0.700746  0.667703  0.697329"
      ]
     },
     "execution_count": 40,
     "metadata": {},
     "output_type": "execute_result"
    }
   ],
   "source": [
    "r2_train = []\n",
    "auc_train = []\n",
    "r2_test = []\n",
    "auc_test = []\n",
    "\n",
    "layers = ((), (10), (20), (50), (100), (10, 10), (20, 20), (50, 50), (100, 100), \n",
    "          (10, 10, 10), (20, 20, 20), (50, 50, 50), (100, 100, 100))\n",
    "for l in layers:\n",
    "    m_mlp = MLPClassifier(hidden_layer_sizes = l, max_iter = 1000).fit(X_train, y_train.income)\n",
    "    r2_train = r2_train + [m_mlp.score(X_train, y_train.income)]\n",
    "    fpr, tpr, th = roc_curve(y_train.income == \">50K\", pandas.DataFrame(m_mlp.predict_proba(X_train))[1])\n",
    "    auc_train = auc_train + [auc(fpr, tpr)]\n",
    "    r2_test = r2_test + [m_mlp.score(X_test, y_test.income)]\n",
    "    fpr, tpr, th = roc_curve(y_test.income == \">50K\", pandas.DataFrame(m_mlp.predict_proba(X_test))[1])\n",
    "    auc_test = auc_test + [auc(fpr, tpr)]\n",
    "    \n",
    "df = pandas.DataFrame({\n",
    "    \"layers\": layers,\n",
    "    \"r2 train\": r2_train,\n",
    "    \"auc train\": auc_train,\n",
    "    \"r2 test\": r2_test,\n",
    "    \"auc test\": auc_test\n",
    "})\n",
    "df"
   ]
  },
  {
   "cell_type": "code",
   "execution_count": 41,
   "metadata": {},
   "outputs": [],
   "source": [
    "m_mlp = MLPClassifier(hidden_layer_sizes = (100, 100, 50), max_iter = 1000).fit(X_train, y_train.income)"
   ]
  },
  {
   "cell_type": "markdown",
   "metadata": {},
   "source": [
    "#### Résultats sur `train`"
   ]
  },
  {
   "cell_type": "code",
   "execution_count": 42,
   "metadata": {},
   "outputs": [
    {
     "data": {
      "text/html": [
       "<div>\n",
       "<style scoped>\n",
       "    .dataframe tbody tr th:only-of-type {\n",
       "        vertical-align: middle;\n",
       "    }\n",
       "\n",
       "    .dataframe tbody tr th {\n",
       "        vertical-align: top;\n",
       "    }\n",
       "\n",
       "    .dataframe thead th {\n",
       "        text-align: right;\n",
       "    }\n",
       "</style>\n",
       "<table border=\"1\" class=\"dataframe\">\n",
       "  <thead>\n",
       "    <tr style=\"text-align: right;\">\n",
       "      <th>income</th>\n",
       "      <th>&lt;=50K</th>\n",
       "      <th>&gt;50K</th>\n",
       "    </tr>\n",
       "    <tr>\n",
       "      <th>row_0</th>\n",
       "      <th></th>\n",
       "      <th></th>\n",
       "    </tr>\n",
       "  </thead>\n",
       "  <tbody>\n",
       "    <tr>\n",
       "      <th>&lt;=50K</th>\n",
       "      <td>27077</td>\n",
       "      <td>8271</td>\n",
       "    </tr>\n",
       "    <tr>\n",
       "      <th>&gt;50K</th>\n",
       "      <td>114</td>\n",
       "      <td>254</td>\n",
       "    </tr>\n",
       "  </tbody>\n",
       "</table>\n",
       "</div>"
      ],
      "text/plain": [
       "income  <=50K  >50K\n",
       "row_0              \n",
       "<=50K   27077  8271\n",
       ">50K      114   254"
      ]
     },
     "execution_count": 42,
     "metadata": {},
     "output_type": "execute_result"
    }
   ],
   "source": [
    "pandas.crosstab(m_mlp.predict(X_train), y_train.income)"
   ]
  },
  {
   "cell_type": "code",
   "execution_count": 43,
   "metadata": {},
   "outputs": [
    {
     "data": {
      "text/plain": [
       "0.7652312688990929"
      ]
     },
     "execution_count": 43,
     "metadata": {},
     "output_type": "execute_result"
    }
   ],
   "source": [
    "m_mlp.score(X_train, y_train.income)"
   ]
  },
  {
   "cell_type": "markdown",
   "metadata": {},
   "source": [
    "#### Résultats sur `test`"
   ]
  },
  {
   "cell_type": "code",
   "execution_count": 44,
   "metadata": {},
   "outputs": [
    {
     "data": {
      "text/html": [
       "<div>\n",
       "<style scoped>\n",
       "    .dataframe tbody tr th:only-of-type {\n",
       "        vertical-align: middle;\n",
       "    }\n",
       "\n",
       "    .dataframe tbody tr th {\n",
       "        vertical-align: top;\n",
       "    }\n",
       "\n",
       "    .dataframe thead th {\n",
       "        text-align: right;\n",
       "    }\n",
       "</style>\n",
       "<table border=\"1\" class=\"dataframe\">\n",
       "  <thead>\n",
       "    <tr style=\"text-align: right;\">\n",
       "      <th>income</th>\n",
       "      <th>&lt;=50K</th>\n",
       "      <th>&gt;50K</th>\n",
       "    </tr>\n",
       "    <tr>\n",
       "      <th>row_0</th>\n",
       "      <th></th>\n",
       "      <th></th>\n",
       "    </tr>\n",
       "  </thead>\n",
       "  <tbody>\n",
       "    <tr>\n",
       "      <th>&lt;=50K</th>\n",
       "      <td>8982</td>\n",
       "      <td>2815</td>\n",
       "    </tr>\n",
       "    <tr>\n",
       "      <th>&gt;50K</th>\n",
       "      <td>29</td>\n",
       "      <td>79</td>\n",
       "    </tr>\n",
       "  </tbody>\n",
       "</table>\n",
       "</div>"
      ],
      "text/plain": [
       "income  <=50K  >50K\n",
       "row_0              \n",
       "<=50K    8982  2815\n",
       ">50K       29    79"
      ]
     },
     "execution_count": 44,
     "metadata": {},
     "output_type": "execute_result"
    }
   ],
   "source": [
    "pandas.crosstab(m_mlp.predict(X_test), y_test.income)"
   ]
  },
  {
   "cell_type": "code",
   "execution_count": 45,
   "metadata": {},
   "outputs": [
    {
     "data": {
      "text/plain": [
       "0.7611087778244435"
      ]
     },
     "execution_count": 45,
     "metadata": {},
     "output_type": "execute_result"
    }
   ],
   "source": [
    "m_mlp.score(X_test, y_test.income)"
   ]
  },
  {
   "cell_type": "markdown",
   "metadata": {},
   "source": [
    "## Comparaison des modèles entre eux"
   ]
  },
  {
   "cell_type": "markdown",
   "metadata": {},
   "source": [
    "#### Résultats sur `train`"
   ]
  },
  {
   "cell_type": "code",
   "execution_count": 48,
   "metadata": {},
   "outputs": [
    {
     "data": {
      "image/png": "[encoded data removed]",
      "text/plain": [
       "<Figure size 1152x576 with 1 Axes>"
      ]
     },
     "metadata": {
      "needs_background": "light"
     },
     "output_type": "display_data"
    }
   ],
   "source": [
    "fig = plt.figure(figsize = (16,8))\n",
    "ax = fig.add_subplot(1, 1, 1)\n",
    "plt.title(\"Courbes ROC\")\n",
    "\n",
    "# Logistic\n",
    "fpr, tpr, th = roc_curve(y_train.income == \">50K\", pandas.DataFrame(m_log.predict_proba(X_train))[1])\n",
    "ax.plot(fpr, tpr, label='Logistic')\n",
    "ax.text(.8, .4, \"Log: \" + str(round(auc(fpr, tpr), 3)))\n",
    "\n",
    "# kNN\n",
    "fpr, tpr, th = roc_curve(y_train.income == \">50K\", pandas.DataFrame(m_knn.predict_proba(X_train))[1])\n",
    "ax.plot(fpr, tpr, label='k-NN')\n",
    "ax.text(.8, .35, \"k-NN: \" + str(round(auc(fpr, tpr), 3)))\n",
    "\n",
    "# CART\n",
    "fpr, tpr, th = roc_curve(y_train.income == \">50K\", pandas.DataFrame(m_tree_elague.predict_proba(X_train))[1])\n",
    "ax.plot(fpr, tpr, label='CART')\n",
    "ax.text(.8, .3, \"CART: \" + str(round(auc(fpr, tpr), 3)))\n",
    "\n",
    "# MLP\n",
    "fpr, tpr, th = roc_curve(y_train.income == \">50K\", pandas.DataFrame(m_mlp.predict_proba(X_train))[1])\n",
    "ax.plot(fpr, tpr, label='MLP')\n",
    "ax.text(.8, .25, \"MLP: \" + str(round(auc(fpr, tpr), 3)))\n",
    "\n",
    "ax.legend()\n",
    "ax.set(xlabel = \"Taux de faux positifs\", ylabel = \"Taux de vrais positifs\")\n",
    "plt.show()"
   ]
  },
  {
   "cell_type": "markdown",
   "metadata": {},
   "source": [
    "#### Résultats sur `test`"
   ]
  },
  {
   "cell_type": "code",
   "execution_count": 49,
   "metadata": {},
   "outputs": [
    {
     "data": {
      "image/png": "[encoded data removed]",
      "text/plain": [
       "<Figure size 1152x576 with 1 Axes>"
      ]
     },
     "metadata": {
      "needs_background": "light"
     },
     "output_type": "display_data"
    }
   ],
   "source": [
    "fig = plt.figure(figsize = (16,8))\n",
    "ax = fig.add_subplot(1, 1, 1)\n",
    "plt.title(\"Courbes ROC\")\n",
    "\n",
    "# Logistic\n",
    "fpr, tpr, th = roc_curve(y_test.income == \">50K\", pandas.DataFrame(m_log.predict_proba(X_test))[1])\n",
    "ax.plot(fpr, tpr, label='Logistic')\n",
    "ax.text(.8, .4, \"Log: \" + str(round(auc(fpr, tpr), 3)))\n",
    "\n",
    "# kNN\n",
    "fpr, tpr, th = roc_curve(y_test.income == \">50K\", pandas.DataFrame(m_knn.predict_proba(X_test))[1])\n",
    "ax.plot(fpr, tpr, label='k-NN')\n",
    "ax.text(.8, .35, \"k-NN: \" + str(round(auc(fpr, tpr), 3)))\n",
    "\n",
    "# CART\n",
    "fpr, tpr, th = roc_curve(y_test.income == \">50K\", pandas.DataFrame(m_tree_elague.predict_proba(X_test))[1])\n",
    "ax.plot(fpr, tpr, label='CART')\n",
    "ax.text(.8, .3, \"CART: \" + str(round(auc(fpr, tpr), 3)))\n",
    "\n",
    "# MLP\n",
    "fpr, tpr, th = roc_curve(y_test.income == \">50K\", pandas.DataFrame(m_mlp.predict_proba(X_test))[1])\n",
    "ax.plot(fpr, tpr, label='MLP')\n",
    "ax.text(.8, .25, \"MLP: \" + str(round(auc(fpr, tpr), 3)))\n",
    "\n",
    "ax.legend()\n",
    "ax.set(xlabel = \"Taux de faux positifs\", ylabel = \"Taux de vrais positifs\")\n",
    "plt.show()"
   ]
  },
  {
   "cell_type": "code",
   "execution_count": null,
   "metadata": {},
   "outputs": [],
   "source": []
  }
 ],
 "metadata": {
  "kernelspec": {
   "display_name": "Python 3",
   "language": "python",
   "name": "python3"
  },
  "language_info": {
   "codemirror_mode": {
    "name": "ipython",
    "version": 3
   },
   "file_extension": ".py",
   "mimetype": "text/x-python",
   "name": "python",
   "nbconvert_exporter": "python",
   "pygments_lexer": "ipython3",
   "version": "3.9.9"
  }
 },
 "nbformat": 4,
 "nbformat_minor": 4
}
