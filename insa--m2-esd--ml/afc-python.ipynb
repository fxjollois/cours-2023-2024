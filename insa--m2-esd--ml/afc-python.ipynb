{
 "cells": [
  {
   "cell_type": "markdown",
   "metadata": {
    "slideshow": {
     "slide_type": "slide"
    }
   },
   "source": [
    "# Analyse Factorielle des Correspondances Simples (AFC)\n",
    "\n",
    "## Mastère ESD - Introduction au Machine Learning"
   ]
  },
  {
   "cell_type": "markdown",
   "metadata": {
    "slideshow": {
     "slide_type": "slide"
    }
   },
   "source": [
    "## Librairies utilisées\n",
    "\n",
    "Données accidents aux Etats-Unis sur la période 1973-1978 [à télécharger](USAccDeaths.csv)"
   ]
  },
  {
   "cell_type": "code",
   "execution_count": 1,
   "metadata": {},
   "outputs": [],
   "source": [
    "import pandas\n",
    "import numpy\n",
    "import matplotlib.pyplot as plt\n",
    "import seaborn\n",
    "seaborn.set_style(\"white\")\n",
    "\n",
    "from prince import CA"
   ]
  },
  {
   "cell_type": "markdown",
   "metadata": {
    "slideshow": {
     "slide_type": "slide"
    }
   },
   "source": [
    "## Données utilisées"
   ]
  },
  {
   "cell_type": "code",
   "execution_count": 2,
   "metadata": {
    "scrolled": true
   },
   "outputs": [
    {
     "data": {
      "text/html": [
       "<div>\n",
       "<style scoped>\n",
       "    .dataframe tbody tr th:only-of-type {\n",
       "        vertical-align: middle;\n",
       "    }\n",
       "\n",
       "    .dataframe tbody tr th {\n",
       "        vertical-align: top;\n",
       "    }\n",
       "\n",
       "    .dataframe thead th {\n",
       "        text-align: right;\n",
       "    }\n",
       "</style>\n",
       "<table border=\"1\" class=\"dataframe\">\n",
       "  <thead>\n",
       "    <tr style=\"text-align: right;\">\n",
       "      <th>Month</th>\n",
       "      <th>January</th>\n",
       "      <th>February</th>\n",
       "      <th>March</th>\n",
       "      <th>April</th>\n",
       "      <th>May</th>\n",
       "      <th>June</th>\n",
       "      <th>July</th>\n",
       "      <th>August</th>\n",
       "      <th>September</th>\n",
       "      <th>October</th>\n",
       "      <th>November</th>\n",
       "      <th>December</th>\n",
       "    </tr>\n",
       "    <tr>\n",
       "      <th>Year</th>\n",
       "      <th></th>\n",
       "      <th></th>\n",
       "      <th></th>\n",
       "      <th></th>\n",
       "      <th></th>\n",
       "      <th></th>\n",
       "      <th></th>\n",
       "      <th></th>\n",
       "      <th></th>\n",
       "      <th></th>\n",
       "      <th></th>\n",
       "      <th></th>\n",
       "    </tr>\n",
       "  </thead>\n",
       "  <tbody>\n",
       "    <tr>\n",
       "      <th>1973</th>\n",
       "      <td>9007</td>\n",
       "      <td>8106</td>\n",
       "      <td>8928</td>\n",
       "      <td>9137</td>\n",
       "      <td>10017</td>\n",
       "      <td>10826</td>\n",
       "      <td>11317</td>\n",
       "      <td>10744</td>\n",
       "      <td>9713</td>\n",
       "      <td>9938</td>\n",
       "      <td>9161</td>\n",
       "      <td>8927</td>\n",
       "    </tr>\n",
       "    <tr>\n",
       "      <th>1974</th>\n",
       "      <td>7750</td>\n",
       "      <td>6981</td>\n",
       "      <td>8038</td>\n",
       "      <td>8422</td>\n",
       "      <td>8714</td>\n",
       "      <td>9512</td>\n",
       "      <td>10120</td>\n",
       "      <td>9823</td>\n",
       "      <td>8743</td>\n",
       "      <td>9129</td>\n",
       "      <td>8710</td>\n",
       "      <td>8680</td>\n",
       "    </tr>\n",
       "    <tr>\n",
       "      <th>1975</th>\n",
       "      <td>8162</td>\n",
       "      <td>7306</td>\n",
       "      <td>8124</td>\n",
       "      <td>7870</td>\n",
       "      <td>9387</td>\n",
       "      <td>9556</td>\n",
       "      <td>10093</td>\n",
       "      <td>9620</td>\n",
       "      <td>8285</td>\n",
       "      <td>8466</td>\n",
       "      <td>8160</td>\n",
       "      <td>8034</td>\n",
       "    </tr>\n",
       "    <tr>\n",
       "      <th>1976</th>\n",
       "      <td>7717</td>\n",
       "      <td>7461</td>\n",
       "      <td>7767</td>\n",
       "      <td>7925</td>\n",
       "      <td>8623</td>\n",
       "      <td>8945</td>\n",
       "      <td>10078</td>\n",
       "      <td>9179</td>\n",
       "      <td>8037</td>\n",
       "      <td>8488</td>\n",
       "      <td>7874</td>\n",
       "      <td>8647</td>\n",
       "    </tr>\n",
       "    <tr>\n",
       "      <th>1977</th>\n",
       "      <td>7792</td>\n",
       "      <td>6957</td>\n",
       "      <td>7726</td>\n",
       "      <td>8106</td>\n",
       "      <td>8890</td>\n",
       "      <td>9299</td>\n",
       "      <td>10625</td>\n",
       "      <td>9302</td>\n",
       "      <td>8314</td>\n",
       "      <td>8850</td>\n",
       "      <td>8265</td>\n",
       "      <td>8796</td>\n",
       "    </tr>\n",
       "    <tr>\n",
       "      <th>1978</th>\n",
       "      <td>7836</td>\n",
       "      <td>6892</td>\n",
       "      <td>7791</td>\n",
       "      <td>8192</td>\n",
       "      <td>9115</td>\n",
       "      <td>9434</td>\n",
       "      <td>10484</td>\n",
       "      <td>9827</td>\n",
       "      <td>9110</td>\n",
       "      <td>9070</td>\n",
       "      <td>8633</td>\n",
       "      <td>9240</td>\n",
       "    </tr>\n",
       "  </tbody>\n",
       "</table>\n",
       "</div>"
      ],
      "text/plain": [
       "Month  January  February  March  April    May   June   July  August  \\\n",
       "Year                                                                  \n",
       "1973      9007      8106   8928   9137  10017  10826  11317   10744   \n",
       "1974      7750      6981   8038   8422   8714   9512  10120    9823   \n",
       "1975      8162      7306   8124   7870   9387   9556  10093    9620   \n",
       "1976      7717      7461   7767   7925   8623   8945  10078    9179   \n",
       "1977      7792      6957   7726   8106   8890   9299  10625    9302   \n",
       "1978      7836      6892   7791   8192   9115   9434  10484    9827   \n",
       "\n",
       "Month  September  October  November  December  \n",
       "Year                                           \n",
       "1973        9713     9938      9161      8927  \n",
       "1974        8743     9129      8710      8680  \n",
       "1975        8285     8466      8160      8034  \n",
       "1976        8037     8488      7874      8647  \n",
       "1977        8314     8850      8265      8796  \n",
       "1978        9110     9070      8633      9240  "
      ]
     },
     "execution_count": 2,
     "metadata": {},
     "output_type": "execute_result"
    }
   ],
   "source": [
    "df = pandas.read_csv(\"USAccDeaths.csv\", index_col = \"Year\")\n",
    "df.columns.rename(\"Month\", inplace = True)\n",
    "df.index.rename(\"Year\", inplace = True)\n",
    "df"
   ]
  },
  {
   "cell_type": "markdown",
   "metadata": {
    "slideshow": {
     "slide_type": "slide"
    }
   },
   "source": [
    "## Calcul de AFC"
   ]
  },
  {
   "cell_type": "code",
   "execution_count": 3,
   "metadata": {},
   "outputs": [
    {
     "data": {
      "text/plain": [
       "CA(n_components=6)"
      ]
     },
     "execution_count": 3,
     "metadata": {},
     "output_type": "execute_result"
    }
   ],
   "source": [
    "ca = CA(n_components=6)\n",
    "ca.fit(df)"
   ]
  },
  {
   "cell_type": "markdown",
   "metadata": {
    "slideshow": {
     "slide_type": "slide"
    }
   },
   "source": [
    "## Valeurs propres"
   ]
  },
  {
   "cell_type": "code",
   "execution_count": 4,
   "metadata": {
    "scrolled": true
   },
   "outputs": [
    {
     "name": "stdout",
     "output_type": "stream",
     "text": [
      "[0.00037628345587226565, 0.0001856700837173522, 7.578318526200408e-05, 3.768944468224173e-05, 2.457913831520349e-05, 4.207611728329211e-33]\n",
      "0.0007000053078490677\n",
      "[0.5375437181019181, 0.2652409655119153, 0.10826087232804832, 0.053841655569800584, 0.03511278848831693, 6.010828319656741e-30]\n"
     ]
    }
   ],
   "source": [
    "print(ca.eigenvalues_)\n",
    "print(ca.total_inertia_)\n",
    "print(ca.explained_inertia_)"
   ]
  },
  {
   "cell_type": "code",
   "execution_count": 5,
   "metadata": {
    "slideshow": {
     "slide_type": "slide"
    }
   },
   "outputs": [
    {
     "data": {
      "text/html": [
       "<div>\n",
       "<style scoped>\n",
       "    .dataframe tbody tr th:only-of-type {\n",
       "        vertical-align: middle;\n",
       "    }\n",
       "\n",
       "    .dataframe tbody tr th {\n",
       "        vertical-align: top;\n",
       "    }\n",
       "\n",
       "    .dataframe thead th {\n",
       "        text-align: right;\n",
       "    }\n",
       "</style>\n",
       "<table border=\"1\" class=\"dataframe\">\n",
       "  <thead>\n",
       "    <tr style=\"text-align: right;\">\n",
       "      <th></th>\n",
       "      <th>Dimension</th>\n",
       "      <th>Valeur propre</th>\n",
       "      <th>% variance expliquée</th>\n",
       "      <th>% variance expliquée cumulée</th>\n",
       "    </tr>\n",
       "  </thead>\n",
       "  <tbody>\n",
       "    <tr>\n",
       "      <th>0</th>\n",
       "      <td>Dim1</td>\n",
       "      <td>3.762835e-04</td>\n",
       "      <td>53.75</td>\n",
       "      <td>53.75</td>\n",
       "    </tr>\n",
       "    <tr>\n",
       "      <th>1</th>\n",
       "      <td>Dim2</td>\n",
       "      <td>1.856701e-04</td>\n",
       "      <td>26.52</td>\n",
       "      <td>80.28</td>\n",
       "    </tr>\n",
       "    <tr>\n",
       "      <th>2</th>\n",
       "      <td>Dim3</td>\n",
       "      <td>7.578319e-05</td>\n",
       "      <td>10.83</td>\n",
       "      <td>91.10</td>\n",
       "    </tr>\n",
       "    <tr>\n",
       "      <th>3</th>\n",
       "      <td>Dim4</td>\n",
       "      <td>3.768944e-05</td>\n",
       "      <td>5.38</td>\n",
       "      <td>96.49</td>\n",
       "    </tr>\n",
       "    <tr>\n",
       "      <th>4</th>\n",
       "      <td>Dim5</td>\n",
       "      <td>2.457914e-05</td>\n",
       "      <td>3.51</td>\n",
       "      <td>100.00</td>\n",
       "    </tr>\n",
       "    <tr>\n",
       "      <th>5</th>\n",
       "      <td>Dim6</td>\n",
       "      <td>4.207612e-33</td>\n",
       "      <td>0.00</td>\n",
       "      <td>100.00</td>\n",
       "    </tr>\n",
       "  </tbody>\n",
       "</table>\n",
       "</div>"
      ],
      "text/plain": [
       "  Dimension  Valeur propre  % variance expliquée  % variance expliquée cumulée\n",
       "0      Dim1   3.762835e-04                 53.75                         53.75\n",
       "1      Dim2   1.856701e-04                 26.52                         80.28\n",
       "2      Dim3   7.578319e-05                 10.83                         91.10\n",
       "3      Dim4   3.768944e-05                  5.38                         96.49\n",
       "4      Dim5   2.457914e-05                  3.51                        100.00\n",
       "5      Dim6   4.207612e-33                  0.00                        100.00"
      ]
     },
     "execution_count": 5,
     "metadata": {},
     "output_type": "execute_result"
    }
   ],
   "source": [
    "eig = pandas.DataFrame(\n",
    "    { \n",
    "        \"Dimension\" : [\"Dim\" + str(x + 1) for x in range(6)],\n",
    "        \"Valeur propre\": ca.eigenvalues_,\n",
    "        \"% variance expliquée\": numpy.round(ca.explained_inertia_, 4) * 100,\n",
    "        \"% variance expliquée cumulée\": numpy.round(numpy.cumsum(ca.explained_inertia_), 4) * 100,\n",
    "    }\n",
    ")\n",
    "eig"
   ]
  },
  {
   "cell_type": "markdown",
   "metadata": {
    "slideshow": {
     "slide_type": "slide"
    }
   },
   "source": [
    "## Choix des facteurs"
   ]
  },
  {
   "cell_type": "code",
   "execution_count": 6,
   "metadata": {},
   "outputs": [
    {
     "data": {
      "image/png": "[encoded data removed]",
      "text/plain": [
       "<Figure size 1152x432 with 1 Axes>"
      ]
     },
     "metadata": {},
     "output_type": "display_data"
    }
   ],
   "source": [
    "plt.figure(figsize=(16, 6))\n",
    "g_eig = seaborn.barplot(x = \"Dimension\", \n",
    "                        y = \"% variance expliquée\",\n",
    "                        palette = [\"lightseagreen\"],\n",
    "                        data = eig)\n",
    "g_eig.set(ylabel = \"Variance expliquée (%)\")\n",
    "g_eig.figure.suptitle(\"Variance expliquée par dimension\")\n",
    "\n",
    "plt.show()"
   ]
  },
  {
   "cell_type": "markdown",
   "metadata": {
    "slideshow": {
     "slide_type": "slide"
    }
   },
   "source": [
    "## Représentation des lignes"
   ]
  },
  {
   "cell_type": "code",
   "execution_count": 7,
   "metadata": {},
   "outputs": [
    {
     "data": {
      "text/html": [
       "<div>\n",
       "<style scoped>\n",
       "    .dataframe tbody tr th:only-of-type {\n",
       "        vertical-align: middle;\n",
       "    }\n",
       "\n",
       "    .dataframe tbody tr th {\n",
       "        vertical-align: top;\n",
       "    }\n",
       "\n",
       "    .dataframe thead th {\n",
       "        text-align: right;\n",
       "    }\n",
       "</style>\n",
       "<table border=\"1\" class=\"dataframe\">\n",
       "  <thead>\n",
       "    <tr style=\"text-align: right;\">\n",
       "      <th></th>\n",
       "      <th>Dim1</th>\n",
       "      <th>Dim2</th>\n",
       "      <th>2</th>\n",
       "      <th>3</th>\n",
       "      <th>4</th>\n",
       "      <th>5</th>\n",
       "    </tr>\n",
       "  </thead>\n",
       "  <tbody>\n",
       "    <tr>\n",
       "      <th>1973</th>\n",
       "      <td>0.017407</td>\n",
       "      <td>-0.013220</td>\n",
       "      <td>0.004260</td>\n",
       "      <td>0.004290</td>\n",
       "      <td>0.006992</td>\n",
       "      <td>-0.485789</td>\n",
       "    </tr>\n",
       "    <tr>\n",
       "      <th>1974</th>\n",
       "      <td>-0.013806</td>\n",
       "      <td>-0.014447</td>\n",
       "      <td>0.011227</td>\n",
       "      <td>-0.001709</td>\n",
       "      <td>-0.006420</td>\n",
       "      <td>-0.485789</td>\n",
       "    </tr>\n",
       "    <tr>\n",
       "      <th>1975</th>\n",
       "      <td>0.030026</td>\n",
       "      <td>-0.000779</td>\n",
       "      <td>-0.009876</td>\n",
       "      <td>-0.003899</td>\n",
       "      <td>-0.005081</td>\n",
       "      <td>-0.485789</td>\n",
       "    </tr>\n",
       "    <tr>\n",
       "      <th>1976</th>\n",
       "      <td>0.003461</td>\n",
       "      <td>0.024649</td>\n",
       "      <td>0.009397</td>\n",
       "      <td>-0.004836</td>\n",
       "      <td>0.002169</td>\n",
       "      <td>-0.485789</td>\n",
       "    </tr>\n",
       "    <tr>\n",
       "      <th>1977</th>\n",
       "      <td>-0.011677</td>\n",
       "      <td>0.010810</td>\n",
       "      <td>-0.004949</td>\n",
       "      <td>0.011591</td>\n",
       "      <td>-0.002571</td>\n",
       "      <td>-0.485789</td>\n",
       "    </tr>\n",
       "    <tr>\n",
       "      <th>1978</th>\n",
       "      <td>-0.026633</td>\n",
       "      <td>-0.004477</td>\n",
       "      <td>-0.010296</td>\n",
       "      <td>-0.005888</td>\n",
       "      <td>0.004086</td>\n",
       "      <td>-0.485789</td>\n",
       "    </tr>\n",
       "  </tbody>\n",
       "</table>\n",
       "</div>"
      ],
      "text/plain": [
       "          Dim1      Dim2         2         3         4         5\n",
       "1973  0.017407 -0.013220  0.004260  0.004290  0.006992 -0.485789\n",
       "1974 -0.013806 -0.014447  0.011227 -0.001709 -0.006420 -0.485789\n",
       "1975  0.030026 -0.000779 -0.009876 -0.003899 -0.005081 -0.485789\n",
       "1976  0.003461  0.024649  0.009397 -0.004836  0.002169 -0.485789\n",
       "1977 -0.011677  0.010810 -0.004949  0.011591 -0.002571 -0.485789\n",
       "1978 -0.026633 -0.004477 -0.010296 -0.005888  0.004086 -0.485789"
      ]
     },
     "execution_count": 7,
     "metadata": {},
     "output_type": "execute_result"
    }
   ],
   "source": [
    "df_row = pandas.DataFrame(ca.row_coordinates(df)).rename(columns = {0: \"Dim1\", 1: \"Dim2\"})\n",
    "df_row"
   ]
  },
  {
   "cell_type": "code",
   "execution_count": 8,
   "metadata": {
    "slideshow": {
     "slide_type": "slide"
    }
   },
   "outputs": [
    {
     "data": {
      "image/png": "[encoded data removed]",
      "text/plain": [
       "<Figure size 864x288 with 1 Axes>"
      ]
     },
     "metadata": {},
     "output_type": "display_data"
    }
   ],
   "source": [
    "g_row = seaborn.lmplot(x = \"Dim1\", y = \"Dim2\", data = df_row, fit_reg = False, \n",
    "                       height = 4, aspect = 3)\n",
    "g_row.fig.suptitle(\"Modalités en lignes\")\n",
    "for i in df_row.index:\n",
    "    plt.text(df_row.loc[i].Dim1, df_row.loc[i].Dim2, i, size = \"xx-large\")\n",
    "plt.show()"
   ]
  },
  {
   "cell_type": "markdown",
   "metadata": {
    "slideshow": {
     "slide_type": "slide"
    }
   },
   "source": [
    "## Représentation des colonnes"
   ]
  },
  {
   "cell_type": "code",
   "execution_count": 9,
   "metadata": {},
   "outputs": [
    {
     "data": {
      "text/html": [
       "<div>\n",
       "<style scoped>\n",
       "    .dataframe tbody tr th:only-of-type {\n",
       "        vertical-align: middle;\n",
       "    }\n",
       "\n",
       "    .dataframe tbody tr th {\n",
       "        vertical-align: top;\n",
       "    }\n",
       "\n",
       "    .dataframe thead th {\n",
       "        text-align: right;\n",
       "    }\n",
       "</style>\n",
       "<table border=\"1\" class=\"dataframe\">\n",
       "  <thead>\n",
       "    <tr style=\"text-align: right;\">\n",
       "      <th></th>\n",
       "      <th>Dim1</th>\n",
       "      <th>Dim2</th>\n",
       "      <th>2</th>\n",
       "      <th>3</th>\n",
       "      <th>4</th>\n",
       "      <th>5</th>\n",
       "    </tr>\n",
       "  </thead>\n",
       "  <tbody>\n",
       "    <tr>\n",
       "      <th>January</th>\n",
       "      <td>0.023375</td>\n",
       "      <td>0.003002</td>\n",
       "      <td>-0.004639</td>\n",
       "      <td>0.001429</td>\n",
       "      <td>0.001994</td>\n",
       "      <td>1.0</td>\n",
       "    </tr>\n",
       "    <tr>\n",
       "      <th>February</th>\n",
       "      <td>0.029632</td>\n",
       "      <td>0.024436</td>\n",
       "      <td>0.014401</td>\n",
       "      <td>-0.006230</td>\n",
       "      <td>0.005528</td>\n",
       "      <td>1.0</td>\n",
       "    </tr>\n",
       "    <tr>\n",
       "      <th>March</th>\n",
       "      <td>0.018686</td>\n",
       "      <td>-0.000595</td>\n",
       "      <td>0.006133</td>\n",
       "      <td>-0.003373</td>\n",
       "      <td>-0.006826</td>\n",
       "      <td>1.0</td>\n",
       "    </tr>\n",
       "    <tr>\n",
       "      <th>April</th>\n",
       "      <td>-0.006568</td>\n",
       "      <td>-0.003396</td>\n",
       "      <td>0.013345</td>\n",
       "      <td>0.004948</td>\n",
       "      <td>-0.001407</td>\n",
       "      <td>1.0</td>\n",
       "    </tr>\n",
       "    <tr>\n",
       "      <th>May</th>\n",
       "      <td>0.018069</td>\n",
       "      <td>0.002971</td>\n",
       "      <td>-0.018906</td>\n",
       "      <td>-0.002541</td>\n",
       "      <td>-0.001863</td>\n",
       "      <td>1.0</td>\n",
       "    </tr>\n",
       "    <tr>\n",
       "      <th>June</th>\n",
       "      <td>0.013585</td>\n",
       "      <td>-0.011738</td>\n",
       "      <td>-0.001110</td>\n",
       "      <td>0.005372</td>\n",
       "      <td>0.000419</td>\n",
       "      <td>1.0</td>\n",
       "    </tr>\n",
       "    <tr>\n",
       "      <th>July</th>\n",
       "      <td>-0.006641</td>\n",
       "      <td>0.014813</td>\n",
       "      <td>-0.006718</td>\n",
       "      <td>0.011894</td>\n",
       "      <td>0.000836</td>\n",
       "      <td>1.0</td>\n",
       "    </tr>\n",
       "    <tr>\n",
       "      <th>August</th>\n",
       "      <td>0.001480</td>\n",
       "      <td>-0.010823</td>\n",
       "      <td>0.000180</td>\n",
       "      <td>-0.007366</td>\n",
       "      <td>-0.002311</td>\n",
       "      <td>1.0</td>\n",
       "    </tr>\n",
       "    <tr>\n",
       "      <th>September</th>\n",
       "      <td>-0.014577</td>\n",
       "      <td>-0.019645</td>\n",
       "      <td>-0.003744</td>\n",
       "      <td>-0.005379</td>\n",
       "      <td>0.011479</td>\n",
       "      <td>1.0</td>\n",
       "    </tr>\n",
       "    <tr>\n",
       "      <th>October</th>\n",
       "      <td>-0.013734</td>\n",
       "      <td>-0.007586</td>\n",
       "      <td>0.008094</td>\n",
       "      <td>0.006472</td>\n",
       "      <td>0.002180</td>\n",
       "      <td>1.0</td>\n",
       "    </tr>\n",
       "    <tr>\n",
       "      <th>November</th>\n",
       "      <td>-0.015175</td>\n",
       "      <td>-0.012299</td>\n",
       "      <td>0.000979</td>\n",
       "      <td>-0.001664</td>\n",
       "      <td>-0.008809</td>\n",
       "      <td>1.0</td>\n",
       "    </tr>\n",
       "    <tr>\n",
       "      <th>December</th>\n",
       "      <td>-0.041467</td>\n",
       "      <td>0.024106</td>\n",
       "      <td>-0.002788</td>\n",
       "      <td>-0.006655</td>\n",
       "      <td>-0.000887</td>\n",
       "      <td>1.0</td>\n",
       "    </tr>\n",
       "  </tbody>\n",
       "</table>\n",
       "</div>"
      ],
      "text/plain": [
       "               Dim1      Dim2         2         3         4    5\n",
       "January    0.023375  0.003002 -0.004639  0.001429  0.001994  1.0\n",
       "February   0.029632  0.024436  0.014401 -0.006230  0.005528  1.0\n",
       "March      0.018686 -0.000595  0.006133 -0.003373 -0.006826  1.0\n",
       "April     -0.006568 -0.003396  0.013345  0.004948 -0.001407  1.0\n",
       "May        0.018069  0.002971 -0.018906 -0.002541 -0.001863  1.0\n",
       "June       0.013585 -0.011738 -0.001110  0.005372  0.000419  1.0\n",
       "July      -0.006641  0.014813 -0.006718  0.011894  0.000836  1.0\n",
       "August     0.001480 -0.010823  0.000180 -0.007366 -0.002311  1.0\n",
       "September -0.014577 -0.019645 -0.003744 -0.005379  0.011479  1.0\n",
       "October   -0.013734 -0.007586  0.008094  0.006472  0.002180  1.0\n",
       "November  -0.015175 -0.012299  0.000979 -0.001664 -0.008809  1.0\n",
       "December  -0.041467  0.024106 -0.002788 -0.006655 -0.000887  1.0"
      ]
     },
     "execution_count": 9,
     "metadata": {},
     "output_type": "execute_result"
    }
   ],
   "source": [
    "df_col = pandas.DataFrame(ca.column_coordinates(df)).rename(columns = {0: \"Dim1\", 1: \"Dim2\"})\n",
    "df_col"
   ]
  },
  {
   "cell_type": "code",
   "execution_count": 10,
   "metadata": {
    "slideshow": {
     "slide_type": "slide"
    }
   },
   "outputs": [
    {
     "data": {
      "image/png": "[encoded data removed]",
      "text/plain": [
       "<Figure size 864x288 with 1 Axes>"
      ]
     },
     "metadata": {},
     "output_type": "display_data"
    }
   ],
   "source": [
    "g_col = seaborn.lmplot(x = \"Dim1\", y = \"Dim2\", data = df_col, fit_reg = False, \n",
    "                       height = 4, aspect = 3)\n",
    "g_col.fig.suptitle(\"Modalités en colonnes\")\n",
    "for i in df_col.index:\n",
    "    plt.text(df_col.loc[i].Dim1, df_col.loc[i].Dim2, i, size = \"xx-large\")\n",
    "plt.show()"
   ]
  },
  {
   "cell_type": "markdown",
   "metadata": {
    "slideshow": {
     "slide_type": "slide"
    }
   },
   "source": [
    "## Représentation simultanée"
   ]
  },
  {
   "cell_type": "code",
   "execution_count": 11,
   "metadata": {
    "scrolled": false
   },
   "outputs": [
    {
     "data": {
      "image/png": "[encoded data removed]",
      "text/plain": [
       "<Figure size 1152x576 with 1 Axes>"
      ]
     },
     "metadata": {},
     "output_type": "display_data"
    }
   ],
   "source": [
    "ca.plot_coordinates(df,\n",
    "                    figsize=(16, 8));"
   ]
  },
  {
   "cell_type": "code",
   "execution_count": 12,
   "metadata": {
    "scrolled": false,
    "slideshow": {
     "slide_type": "slide"
    }
   },
   "outputs": [
    {
     "data": {
      "image/png": "[encoded data removed]",
      "text/plain": [
       "<Figure size 1152x576 with 1 Axes>"
      ]
     },
     "metadata": {},
     "output_type": "display_data"
    }
   ],
   "source": [
    "fig = plt.figure(figsize = (16,8))\n",
    "plt.xlim(-.05, .05)\n",
    "plt.ylim(-.05, .05)\n",
    "\n",
    "for i in df_row.index:\n",
    "    plt.scatter(df_row.loc[i].Dim1, df_row.loc[i].Dim2, alpha = .25, c = \"black\")\n",
    "    plt.text(df_row.loc[i].Dim1, df_row.loc[i].Dim2, i, size = \"xx-large\", color = \"darkblue\", ha = \"center\")\n",
    "\n",
    "for i in df_col.index:\n",
    "    plt.scatter(df_col.loc[i].Dim1, df_col.loc[i].Dim2, alpha = .25, c = \"black\")\n",
    "    plt.text(df_col.loc[i].Dim1, df_col.loc[i].Dim2, i, size = \"xx-large\", color = \"darkred\", ha = \"center\")\n",
    "\n",
    "fig.suptitle(\"Représentation conjointe\")\n",
    "plt.show()"
   ]
  },
  {
   "cell_type": "markdown",
   "metadata": {
    "slideshow": {
     "slide_type": "slide"
    }
   },
   "source": [
    "## Importance de chaque modalité"
   ]
  },
  {
   "cell_type": "code",
   "execution_count": 13,
   "metadata": {},
   "outputs": [
    {
     "data": {
      "image/png": "[encoded data removed]",
      "text/plain": [
       "<Figure size 1152x288 with 1 Axes>"
      ]
     },
     "metadata": {},
     "output_type": "display_data"
    }
   ],
   "source": [
    "plt.figure(figsize = (16, 4))\n",
    "plt.bar(df.index, ca.row_masses_, color = \"darkblue\")\n",
    "plt.show()"
   ]
  },
  {
   "cell_type": "code",
   "execution_count": 14,
   "metadata": {},
   "outputs": [
    {
     "data": {
      "image/png": "[encoded data removed]",
      "text/plain": [
       "<Figure size 1152x288 with 1 Axes>"
      ]
     },
     "metadata": {},
     "output_type": "display_data"
    }
   ],
   "source": [
    "plt.figure(figsize = (16, 4))\n",
    "plt.bar(df.columns, ca.col_masses_, color = \"darkred\")\n",
    "plt.show()"
   ]
  },
  {
   "cell_type": "markdown",
   "metadata": {
    "slideshow": {
     "slide_type": "slide"
    }
   },
   "source": [
    "## AFC - Profils lignes"
   ]
  },
  {
   "cell_type": "code",
   "execution_count": 15,
   "metadata": {
    "scrolled": true
   },
   "outputs": [
    {
     "data": {
      "text/html": [
       "<div>\n",
       "<style scoped>\n",
       "    .dataframe tbody tr th:only-of-type {\n",
       "        vertical-align: middle;\n",
       "    }\n",
       "\n",
       "    .dataframe tbody tr th {\n",
       "        vertical-align: top;\n",
       "    }\n",
       "\n",
       "    .dataframe thead th {\n",
       "        text-align: right;\n",
       "    }\n",
       "</style>\n",
       "<table border=\"1\" class=\"dataframe\">\n",
       "  <thead>\n",
       "    <tr style=\"text-align: right;\">\n",
       "      <th>Month</th>\n",
       "      <th>January</th>\n",
       "      <th>February</th>\n",
       "      <th>March</th>\n",
       "      <th>April</th>\n",
       "      <th>May</th>\n",
       "      <th>June</th>\n",
       "      <th>July</th>\n",
       "      <th>August</th>\n",
       "      <th>September</th>\n",
       "      <th>October</th>\n",
       "      <th>November</th>\n",
       "      <th>December</th>\n",
       "    </tr>\n",
       "    <tr>\n",
       "      <th>Year</th>\n",
       "      <th></th>\n",
       "      <th></th>\n",
       "      <th></th>\n",
       "      <th></th>\n",
       "      <th></th>\n",
       "      <th></th>\n",
       "      <th></th>\n",
       "      <th></th>\n",
       "      <th></th>\n",
       "      <th></th>\n",
       "      <th></th>\n",
       "      <th></th>\n",
       "    </tr>\n",
       "  </thead>\n",
       "  <tbody>\n",
       "    <tr>\n",
       "      <th>1973</th>\n",
       "      <td>7.78</td>\n",
       "      <td>7.00</td>\n",
       "      <td>7.71</td>\n",
       "      <td>7.89</td>\n",
       "      <td>8.65</td>\n",
       "      <td>9.35</td>\n",
       "      <td>9.77</td>\n",
       "      <td>9.28</td>\n",
       "      <td>8.39</td>\n",
       "      <td>8.58</td>\n",
       "      <td>7.91</td>\n",
       "      <td>7.71</td>\n",
       "    </tr>\n",
       "    <tr>\n",
       "      <th>1974</th>\n",
       "      <td>7.41</td>\n",
       "      <td>6.67</td>\n",
       "      <td>7.68</td>\n",
       "      <td>8.05</td>\n",
       "      <td>8.33</td>\n",
       "      <td>9.09</td>\n",
       "      <td>9.67</td>\n",
       "      <td>9.39</td>\n",
       "      <td>8.36</td>\n",
       "      <td>8.73</td>\n",
       "      <td>8.33</td>\n",
       "      <td>8.30</td>\n",
       "    </tr>\n",
       "    <tr>\n",
       "      <th>1975</th>\n",
       "      <td>7.92</td>\n",
       "      <td>7.09</td>\n",
       "      <td>7.88</td>\n",
       "      <td>7.64</td>\n",
       "      <td>9.11</td>\n",
       "      <td>9.27</td>\n",
       "      <td>9.79</td>\n",
       "      <td>9.33</td>\n",
       "      <td>8.04</td>\n",
       "      <td>8.21</td>\n",
       "      <td>7.92</td>\n",
       "      <td>7.80</td>\n",
       "    </tr>\n",
       "    <tr>\n",
       "      <th>1976</th>\n",
       "      <td>7.66</td>\n",
       "      <td>7.41</td>\n",
       "      <td>7.71</td>\n",
       "      <td>7.87</td>\n",
       "      <td>8.56</td>\n",
       "      <td>8.88</td>\n",
       "      <td>10.00</td>\n",
       "      <td>9.11</td>\n",
       "      <td>7.98</td>\n",
       "      <td>8.43</td>\n",
       "      <td>7.82</td>\n",
       "      <td>8.58</td>\n",
       "    </tr>\n",
       "    <tr>\n",
       "      <th>1977</th>\n",
       "      <td>7.57</td>\n",
       "      <td>6.76</td>\n",
       "      <td>7.51</td>\n",
       "      <td>7.88</td>\n",
       "      <td>8.64</td>\n",
       "      <td>9.03</td>\n",
       "      <td>10.32</td>\n",
       "      <td>9.04</td>\n",
       "      <td>8.08</td>\n",
       "      <td>8.60</td>\n",
       "      <td>8.03</td>\n",
       "      <td>8.55</td>\n",
       "    </tr>\n",
       "    <tr>\n",
       "      <th>1978</th>\n",
       "      <td>7.42</td>\n",
       "      <td>6.53</td>\n",
       "      <td>7.38</td>\n",
       "      <td>7.76</td>\n",
       "      <td>8.63</td>\n",
       "      <td>8.93</td>\n",
       "      <td>9.93</td>\n",
       "      <td>9.30</td>\n",
       "      <td>8.62</td>\n",
       "      <td>8.59</td>\n",
       "      <td>8.17</td>\n",
       "      <td>8.75</td>\n",
       "    </tr>\n",
       "  </tbody>\n",
       "</table>\n",
       "</div>"
      ],
      "text/plain": [
       "Month  January  February  March  April   May  June   July  August  September  \\\n",
       "Year                                                                           \n",
       "1973      7.78      7.00   7.71   7.89  8.65  9.35   9.77    9.28       8.39   \n",
       "1974      7.41      6.67   7.68   8.05  8.33  9.09   9.67    9.39       8.36   \n",
       "1975      7.92      7.09   7.88   7.64  9.11  9.27   9.79    9.33       8.04   \n",
       "1976      7.66      7.41   7.71   7.87  8.56  8.88  10.00    9.11       7.98   \n",
       "1977      7.57      6.76   7.51   7.88  8.64  9.03  10.32    9.04       8.08   \n",
       "1978      7.42      6.53   7.38   7.76  8.63  8.93   9.93    9.30       8.62   \n",
       "\n",
       "Month  October  November  December  \n",
       "Year                                \n",
       "1973      8.58      7.91      7.71  \n",
       "1974      8.73      8.33      8.30  \n",
       "1975      8.21      7.92      7.80  \n",
       "1976      8.43      7.82      8.58  \n",
       "1977      8.60      8.03      8.55  \n",
       "1978      8.59      8.17      8.75  "
      ]
     },
     "execution_count": 15,
     "metadata": {},
     "output_type": "execute_result"
    }
   ],
   "source": [
    "p_row = df.div(df.sum(axis=1), axis=0).round(4) * 100\n",
    "p_row"
   ]
  },
  {
   "cell_type": "code",
   "execution_count": 16,
   "metadata": {
    "slideshow": {
     "slide_type": "slide"
    }
   },
   "outputs": [
    {
     "data": {
      "image/png": "[encoded data removed]",
      "text/plain": [
       "<Figure size 1152x576 with 1 Axes>"
      ]
     },
     "metadata": {},
     "output_type": "display_data"
    }
   ],
   "source": [
    "fig = plt.figure(figsize = (16, 8))\n",
    "base = numpy.zeros(6)\n",
    "for m in p_row.columns:\n",
    "    plt.bar(p_row.index, p_row[m], bottom = base, label = m)\n",
    "    base = base + p_row[m]\n",
    "plt.margins(0.05, 0.15)\n",
    "plt.legend(ncol = 6, loc = 9)\n",
    "plt.show()"
   ]
  },
  {
   "cell_type": "markdown",
   "metadata": {
    "slideshow": {
     "slide_type": "slide"
    }
   },
   "source": [
    "## AFC - Profils colonnes\n"
   ]
  },
  {
   "cell_type": "code",
   "execution_count": 17,
   "metadata": {},
   "outputs": [
    {
     "data": {
      "text/html": [
       "<div>\n",
       "<style scoped>\n",
       "    .dataframe tbody tr th:only-of-type {\n",
       "        vertical-align: middle;\n",
       "    }\n",
       "\n",
       "    .dataframe tbody tr th {\n",
       "        vertical-align: top;\n",
       "    }\n",
       "\n",
       "    .dataframe thead th {\n",
       "        text-align: right;\n",
       "    }\n",
       "</style>\n",
       "<table border=\"1\" class=\"dataframe\">\n",
       "  <thead>\n",
       "    <tr style=\"text-align: right;\">\n",
       "      <th>Month</th>\n",
       "      <th>January</th>\n",
       "      <th>February</th>\n",
       "      <th>March</th>\n",
       "      <th>April</th>\n",
       "      <th>May</th>\n",
       "      <th>June</th>\n",
       "      <th>July</th>\n",
       "      <th>August</th>\n",
       "      <th>September</th>\n",
       "      <th>October</th>\n",
       "      <th>November</th>\n",
       "      <th>December</th>\n",
       "    </tr>\n",
       "    <tr>\n",
       "      <th>Year</th>\n",
       "      <th></th>\n",
       "      <th></th>\n",
       "      <th></th>\n",
       "      <th></th>\n",
       "      <th></th>\n",
       "      <th></th>\n",
       "      <th></th>\n",
       "      <th></th>\n",
       "      <th></th>\n",
       "      <th></th>\n",
       "      <th></th>\n",
       "      <th></th>\n",
       "    </tr>\n",
       "  </thead>\n",
       "  <tbody>\n",
       "    <tr>\n",
       "      <th>1973</th>\n",
       "      <td>18.66</td>\n",
       "      <td>18.55</td>\n",
       "      <td>18.46</td>\n",
       "      <td>18.40</td>\n",
       "      <td>18.30</td>\n",
       "      <td>18.80</td>\n",
       "      <td>18.04</td>\n",
       "      <td>18.37</td>\n",
       "      <td>18.61</td>\n",
       "      <td>18.42</td>\n",
       "      <td>18.03</td>\n",
       "      <td>17.06</td>\n",
       "    </tr>\n",
       "    <tr>\n",
       "      <th>1974</th>\n",
       "      <td>16.06</td>\n",
       "      <td>15.97</td>\n",
       "      <td>16.62</td>\n",
       "      <td>16.96</td>\n",
       "      <td>15.92</td>\n",
       "      <td>16.52</td>\n",
       "      <td>16.14</td>\n",
       "      <td>16.79</td>\n",
       "      <td>16.75</td>\n",
       "      <td>16.92</td>\n",
       "      <td>17.14</td>\n",
       "      <td>16.59</td>\n",
       "    </tr>\n",
       "    <tr>\n",
       "      <th>1975</th>\n",
       "      <td>16.91</td>\n",
       "      <td>16.72</td>\n",
       "      <td>16.79</td>\n",
       "      <td>15.85</td>\n",
       "      <td>17.15</td>\n",
       "      <td>16.60</td>\n",
       "      <td>16.09</td>\n",
       "      <td>16.45</td>\n",
       "      <td>15.87</td>\n",
       "      <td>15.69</td>\n",
       "      <td>16.06</td>\n",
       "      <td>15.35</td>\n",
       "    </tr>\n",
       "    <tr>\n",
       "      <th>1976</th>\n",
       "      <td>15.99</td>\n",
       "      <td>17.07</td>\n",
       "      <td>16.06</td>\n",
       "      <td>15.96</td>\n",
       "      <td>15.75</td>\n",
       "      <td>15.54</td>\n",
       "      <td>16.07</td>\n",
       "      <td>15.69</td>\n",
       "      <td>15.40</td>\n",
       "      <td>15.74</td>\n",
       "      <td>15.50</td>\n",
       "      <td>16.53</td>\n",
       "    </tr>\n",
       "    <tr>\n",
       "      <th>1977</th>\n",
       "      <td>16.14</td>\n",
       "      <td>15.92</td>\n",
       "      <td>15.97</td>\n",
       "      <td>16.33</td>\n",
       "      <td>16.24</td>\n",
       "      <td>16.15</td>\n",
       "      <td>16.94</td>\n",
       "      <td>15.90</td>\n",
       "      <td>15.93</td>\n",
       "      <td>16.41</td>\n",
       "      <td>16.27</td>\n",
       "      <td>16.81</td>\n",
       "    </tr>\n",
       "    <tr>\n",
       "      <th>1978</th>\n",
       "      <td>16.24</td>\n",
       "      <td>15.77</td>\n",
       "      <td>16.11</td>\n",
       "      <td>16.50</td>\n",
       "      <td>16.65</td>\n",
       "      <td>16.39</td>\n",
       "      <td>16.72</td>\n",
       "      <td>16.80</td>\n",
       "      <td>17.45</td>\n",
       "      <td>16.81</td>\n",
       "      <td>16.99</td>\n",
       "      <td>17.66</td>\n",
       "    </tr>\n",
       "  </tbody>\n",
       "</table>\n",
       "</div>"
      ],
      "text/plain": [
       "Month  January  February  March  April    May   June   July  August  \\\n",
       "Year                                                                  \n",
       "1973     18.66     18.55  18.46  18.40  18.30  18.80  18.04   18.37   \n",
       "1974     16.06     15.97  16.62  16.96  15.92  16.52  16.14   16.79   \n",
       "1975     16.91     16.72  16.79  15.85  17.15  16.60  16.09   16.45   \n",
       "1976     15.99     17.07  16.06  15.96  15.75  15.54  16.07   15.69   \n",
       "1977     16.14     15.92  15.97  16.33  16.24  16.15  16.94   15.90   \n",
       "1978     16.24     15.77  16.11  16.50  16.65  16.39  16.72   16.80   \n",
       "\n",
       "Month  September  October  November  December  \n",
       "Year                                           \n",
       "1973       18.61    18.42     18.03     17.06  \n",
       "1974       16.75    16.92     17.14     16.59  \n",
       "1975       15.87    15.69     16.06     15.35  \n",
       "1976       15.40    15.74     15.50     16.53  \n",
       "1977       15.93    16.41     16.27     16.81  \n",
       "1978       17.45    16.81     16.99     17.66  "
      ]
     },
     "execution_count": 17,
     "metadata": {},
     "output_type": "execute_result"
    }
   ],
   "source": [
    "p_col = df.div(df.sum(axis=0), axis=1).round(4) * 100\n",
    "p_col"
   ]
  },
  {
   "cell_type": "code",
   "execution_count": 18,
   "metadata": {
    "slideshow": {
     "slide_type": "slide"
    }
   },
   "outputs": [
    {
     "data": {
      "image/png": "[encoded data removed]",
      "text/plain": [
       "<Figure size 1152x576 with 1 Axes>"
      ]
     },
     "metadata": {},
     "output_type": "display_data"
    }
   ],
   "source": [
    "fig = plt.figure(figsize = (16, 8))\n",
    "base = numpy.zeros(12)\n",
    "for m in p_col.index:\n",
    "    plt.bar(p_col.columns, p_col.loc[m], bottom = base, label = m)\n",
    "    base = base + p_col.loc[m]\n",
    "plt.margins(0.05, 0.15)\n",
    "plt.legend(ncol = 6, loc = 9)\n",
    "plt.show()"
   ]
  }
 ],
 "metadata": {
  "celltoolbar": "Diaporama",
  "kernelspec": {
   "display_name": "Python 3",
   "language": "python",
   "name": "python3"
  },
  "language_info": {
   "codemirror_mode": {
    "name": "ipython",
    "version": 3
   },
   "file_extension": ".py",
   "mimetype": "text/x-python",
   "name": "python",
   "nbconvert_exporter": "python",
   "pygments_lexer": "ipython3",
   "version": "3.9.9"
  }
 },
 "nbformat": 4,
 "nbformat_minor": 4
}
