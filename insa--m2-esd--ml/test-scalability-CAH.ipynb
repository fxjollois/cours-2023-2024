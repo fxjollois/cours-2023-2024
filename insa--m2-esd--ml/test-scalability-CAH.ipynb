{
 "cells": [
  {
   "cell_type": "markdown",
   "metadata": {},
   "source": [
    "# Test de scalabilité de la CAH"
   ]
  },
  {
   "cell_type": "code",
   "execution_count": 18,
   "metadata": {},
   "outputs": [],
   "source": [
    "import pandas\n",
    "import numpy\n",
    "import matplotlib.pyplot as plt\n",
    "import seaborn\n",
    "seaborn.set_style(\"white\")\n",
    "\n",
    "from sklearn.cluster import AgglomerativeClustering\n",
    "\n",
    "import time\n",
    "import random"
   ]
  },
  {
   "cell_type": "code",
   "execution_count": 19,
   "metadata": {},
   "outputs": [],
   "source": [
    "def simulDF(n = 100, p = 10):\n",
    "    return pandas.DataFrame([[random.random() for j in range(p)] for i in range(n)])"
   ]
  },
  {
   "cell_type": "code",
   "execution_count": 20,
   "metadata": {},
   "outputs": [],
   "source": [
    "def realiseCAH(n = 100, p = 10):\n",
    "    df = simulDF(n = n, p = 10)\n",
    "    start_time = time.time()\n",
    "    res = AgglomerativeClustering(distance_threshold = 0, n_clusters = None).fit(df)\n",
    "    stop_time = time.time()\n",
    "    return stop_time - start_time"
   ]
  },
  {
   "cell_type": "code",
   "execution_count": 25,
   "metadata": {},
   "outputs": [],
   "source": [
    "def NrealiseCAH(nbiter = 10, n = 100, p = 10):\n",
    "    t = []\n",
    "    for i in range(nbiter):\n",
    "        t = t + [realiseCAH(n = n, p = p)]\n",
    "    return numpy.sum(t) / nbiter"
   ]
  },
  {
   "cell_type": "code",
   "execution_count": null,
   "metadata": {},
   "outputs": [],
   "source": [
    "%%time\n",
    "\n",
    "n = [10, 50, 100, 500, 1000, 5000, 10000, 50000, 100000]\n",
    "t = [NrealiseCAH(nbiter = 10, n = nn) for nn in n]"
   ]
  },
  {
   "cell_type": "code",
   "execution_count": 34,
   "metadata": {},
   "outputs": [
    {
     "data": {
      "text/plain": [
       "[0.0022447586059570314,\n",
       " 0.0016052007675170898,\n",
       " 0.0014740705490112304,\n",
       " 0.0014626407623291016,\n",
       " 0.0015374186038970947,\n",
       " 0.0015267256259918214,\n",
       " 0.0015941161155700683,\n",
       " 0.0016536097145080566,\n",
       " 0.001540087423324585]"
      ]
     },
     "execution_count": 34,
     "metadata": {},
     "output_type": "execute_result"
    }
   ],
   "source": [
    "t"
   ]
  },
  {
   "cell_type": "code",
   "execution_count": null,
   "metadata": {},
   "outputs": [],
   "source": []
  }
 ],
 "metadata": {
  "kernelspec": {
   "display_name": "Python 3",
   "language": "python",
   "name": "python3"
  },
  "language_info": {
   "codemirror_mode": {
    "name": "ipython",
    "version": 3
   },
   "file_extension": ".py",
   "mimetype": "text/x-python",
   "name": "python",
   "nbconvert_exporter": "python",
   "pygments_lexer": "ipython3",
   "version": "3.9.9"
  }
 },
 "nbformat": 4,
 "nbformat_minor": 4
}
