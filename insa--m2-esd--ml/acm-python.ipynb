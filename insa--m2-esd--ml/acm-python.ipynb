{
 "cells": [
  {
   "cell_type": "markdown",
   "metadata": {
    "slideshow": {
     "slide_type": "slide"
    }
   },
   "source": [
    "# Analyse des Correspondances Multiples (ACM)\n",
    "\n",
    "## Mastère ESD - Introduction au Machine Learning"
   ]
  },
  {
   "cell_type": "markdown",
   "metadata": {
    "slideshow": {
     "slide_type": "slide"
    }
   },
   "source": [
    "## Librairies utilisées"
   ]
  },
  {
   "cell_type": "code",
   "execution_count": 1,
   "metadata": {},
   "outputs": [],
   "source": [
    "import pandas\n",
    "import numpy\n",
    "import matplotlib.pyplot as plt\n",
    "import seaborn\n",
    "seaborn.set_style(\"white\")\n",
    "\n",
    "from prince import MCA"
   ]
  },
  {
   "cell_type": "markdown",
   "metadata": {
    "slideshow": {
     "slide_type": "slide"
    }
   },
   "source": [
    "## Données utilisées\n",
    "\n",
    "Données des passagers du Titanic [à télécharger](titanic.csv)"
   ]
  },
  {
   "cell_type": "code",
   "execution_count": 2,
   "metadata": {
    "scrolled": false
   },
   "outputs": [
    {
     "data": {
      "text/html": [
       "<div>\n",
       "<style scoped>\n",
       "    .dataframe tbody tr th:only-of-type {\n",
       "        vertical-align: middle;\n",
       "    }\n",
       "\n",
       "    .dataframe tbody tr th {\n",
       "        vertical-align: top;\n",
       "    }\n",
       "\n",
       "    .dataframe thead th {\n",
       "        text-align: right;\n",
       "    }\n",
       "</style>\n",
       "<table border=\"1\" class=\"dataframe\">\n",
       "  <thead>\n",
       "    <tr style=\"text-align: right;\">\n",
       "      <th></th>\n",
       "      <th>Class</th>\n",
       "      <th>Sex</th>\n",
       "      <th>Age</th>\n",
       "      <th>Survived</th>\n",
       "    </tr>\n",
       "  </thead>\n",
       "  <tbody>\n",
       "    <tr>\n",
       "      <th>0</th>\n",
       "      <td>1st</td>\n",
       "      <td>Male</td>\n",
       "      <td>Adult</td>\n",
       "      <td>No</td>\n",
       "    </tr>\n",
       "    <tr>\n",
       "      <th>1</th>\n",
       "      <td>3rd</td>\n",
       "      <td>Male</td>\n",
       "      <td>Adult</td>\n",
       "      <td>Yes</td>\n",
       "    </tr>\n",
       "    <tr>\n",
       "      <th>2</th>\n",
       "      <td>Crew</td>\n",
       "      <td>Male</td>\n",
       "      <td>Adult</td>\n",
       "      <td>No</td>\n",
       "    </tr>\n",
       "    <tr>\n",
       "      <th>3</th>\n",
       "      <td>Crew</td>\n",
       "      <td>Male</td>\n",
       "      <td>Adult</td>\n",
       "      <td>Yes</td>\n",
       "    </tr>\n",
       "    <tr>\n",
       "      <th>4</th>\n",
       "      <td>2nd</td>\n",
       "      <td>Male</td>\n",
       "      <td>Adult</td>\n",
       "      <td>No</td>\n",
       "    </tr>\n",
       "  </tbody>\n",
       "</table>\n",
       "</div>"
      ],
      "text/plain": [
       "  Class   Sex    Age Survived\n",
       "0   1st  Male  Adult       No\n",
       "1   3rd  Male  Adult      Yes\n",
       "2  Crew  Male  Adult       No\n",
       "3  Crew  Male  Adult      Yes\n",
       "4   2nd  Male  Adult       No"
      ]
     },
     "execution_count": 2,
     "metadata": {},
     "output_type": "execute_result"
    }
   ],
   "source": [
    "df = pandas.read_csv(\"titanic.csv\")\n",
    "df.head()"
   ]
  },
  {
   "cell_type": "markdown",
   "metadata": {
    "slideshow": {
     "slide_type": "slide"
    }
   },
   "source": [
    "## Calcul de ACM"
   ]
  },
  {
   "cell_type": "code",
   "execution_count": 3,
   "metadata": {},
   "outputs": [
    {
     "data": {
      "text/html": [
       "<style>#sk-container-id-1 {color: black;}#sk-container-id-1 pre{padding: 0;}#sk-container-id-1 div.sk-toggleable {background-color: white;}#sk-container-id-1 label.sk-toggleable__label {cursor: pointer;display: block;width: 100%;margin-bottom: 0;padding: 0.3em;box-sizing: border-box;text-align: center;}#sk-container-id-1 label.sk-toggleable__label-arrow:before {content: \"▸\";float: left;margin-right: 0.25em;color: #696969;}#sk-container-id-1 label.sk-toggleable__label-arrow:hover:before {color: black;}#sk-container-id-1 div.sk-estimator:hover label.sk-toggleable__label-arrow:before {color: black;}#sk-container-id-1 div.sk-toggleable__content {max-height: 0;max-width: 0;overflow: hidden;text-align: left;background-color: #f0f8ff;}#sk-container-id-1 div.sk-toggleable__content pre {margin: 0.2em;color: black;border-radius: 0.25em;background-color: #f0f8ff;}#sk-container-id-1 input.sk-toggleable__control:checked~div.sk-toggleable__content {max-height: 200px;max-width: 100%;overflow: auto;}#sk-container-id-1 input.sk-toggleable__control:checked~label.sk-toggleable__label-arrow:before {content: \"▾\";}#sk-container-id-1 div.sk-estimator input.sk-toggleable__control:checked~label.sk-toggleable__label {background-color: #d4ebff;}#sk-container-id-1 div.sk-label input.sk-toggleable__control:checked~label.sk-toggleable__label {background-color: #d4ebff;}#sk-container-id-1 input.sk-hidden--visually {border: 0;clip: rect(1px 1px 1px 1px);clip: rect(1px, 1px, 1px, 1px);height: 1px;margin: -1px;overflow: hidden;padding: 0;position: absolute;width: 1px;}#sk-container-id-1 div.sk-estimator {font-family: monospace;background-color: #f0f8ff;border: 1px dotted black;border-radius: 0.25em;box-sizing: border-box;margin-bottom: 0.5em;}#sk-container-id-1 div.sk-estimator:hover {background-color: #d4ebff;}#sk-container-id-1 div.sk-parallel-item::after {content: \"\";width: 100%;border-bottom: 1px solid gray;flex-grow: 1;}#sk-container-id-1 div.sk-label:hover label.sk-toggleable__label {background-color: #d4ebff;}#sk-container-id-1 div.sk-serial::before {content: \"\";position: absolute;border-left: 1px solid gray;box-sizing: border-box;top: 0;bottom: 0;left: 50%;z-index: 0;}#sk-container-id-1 div.sk-serial {display: flex;flex-direction: column;align-items: center;background-color: white;padding-right: 0.2em;padding-left: 0.2em;position: relative;}#sk-container-id-1 div.sk-item {position: relative;z-index: 1;}#sk-container-id-1 div.sk-parallel {display: flex;align-items: stretch;justify-content: center;background-color: white;position: relative;}#sk-container-id-1 div.sk-item::before, #sk-container-id-1 div.sk-parallel-item::before {content: \"\";position: absolute;border-left: 1px solid gray;box-sizing: border-box;top: 0;bottom: 0;left: 50%;z-index: -1;}#sk-container-id-1 div.sk-parallel-item {display: flex;flex-direction: column;z-index: 1;position: relative;background-color: white;}#sk-container-id-1 div.sk-parallel-item:first-child::after {align-self: flex-end;width: 50%;}#sk-container-id-1 div.sk-parallel-item:last-child::after {align-self: flex-start;width: 50%;}#sk-container-id-1 div.sk-parallel-item:only-child::after {width: 0;}#sk-container-id-1 div.sk-dashed-wrapped {border: 1px dashed gray;margin: 0 0.4em 0.5em 0.4em;box-sizing: border-box;padding-bottom: 0.4em;background-color: white;}#sk-container-id-1 div.sk-label label {font-family: monospace;font-weight: bold;display: inline-block;line-height: 1.2em;}#sk-container-id-1 div.sk-label-container {text-align: center;}#sk-container-id-1 div.sk-container {/* jupyter's `normalize.less` sets `[hidden] { display: none; }` but bootstrap.min.css set `[hidden] { display: none !important; }` so we also need the `!important` here to be able to override the default hidden behavior on the sphinx rendered scikit-learn.org. See: https://github.com/scikit-learn/scikit-learn/issues/21755 */display: inline-block !important;position: relative;}#sk-container-id-1 div.sk-text-repr-fallback {display: none;}</style><div id=\"sk-container-id-1\" class=\"sk-top-container\"><div class=\"sk-text-repr-fallback\"><pre>MCA(n_components=10)</pre><b>In a Jupyter environment, please rerun this cell to show the HTML representation or trust the notebook. <br />On GitHub, the HTML representation is unable to render, please try loading this page with nbviewer.org.</b></div><div class=\"sk-container\" hidden><div class=\"sk-item\"><div class=\"sk-estimator sk-toggleable\"><input class=\"sk-toggleable__control sk-hidden--visually\" id=\"sk-estimator-id-1\" type=\"checkbox\" checked><label for=\"sk-estimator-id-1\" class=\"sk-toggleable__label sk-toggleable__label-arrow\">MCA</label><div class=\"sk-toggleable__content\"><pre>MCA(n_components=10)</pre></div></div></div></div></div>"
      ],
      "text/plain": [
       "MCA(n_components=10)"
      ]
     },
     "execution_count": 3,
     "metadata": {},
     "output_type": "execute_result"
    }
   ],
   "source": [
    "mca = MCA(n_components = 10)\n",
    "mca.fit(df)"
   ]
  },
  {
   "cell_type": "markdown",
   "metadata": {
    "slideshow": {
     "slide_type": "slide"
    }
   },
   "source": [
    "## Valeurs propres"
   ]
  },
  {
   "cell_type": "code",
   "execution_count": 4,
   "metadata": {
    "scrolled": true
   },
   "outputs": [
    {
     "name": "stdout",
     "output_type": "stream",
     "text": [
      "[4.45079473e-01 3.05043732e-01 2.50006001e-01 2.05037306e-01\n",
      " 1.78515160e-01 1.16318328e-01 4.85494016e-33 1.42400212e-33\n",
      " 3.71815520e-34]\n",
      "1.5000000000000373\n",
      "[2.96719649e+01 2.03362488e+01 1.66670667e+01 1.36691537e+01\n",
      " 1.19010107e+01 7.75455520e+00 3.23662678e-31 9.49334747e-32\n",
      " 2.47877013e-32]\n"
     ]
    }
   ],
   "source": [
    "print(mca.eigenvalues_)\n",
    "print(mca.total_inertia_)\n",
    "print(mca.percentage_of_variance_)"
   ]
  },
  {
   "cell_type": "code",
   "execution_count": 5,
   "metadata": {
    "slideshow": {
     "slide_type": "-"
    }
   },
   "outputs": [
    {
     "data": {
      "text/html": [
       "<div>\n",
       "<style scoped>\n",
       "    .dataframe tbody tr th:only-of-type {\n",
       "        vertical-align: middle;\n",
       "    }\n",
       "\n",
       "    .dataframe tbody tr th {\n",
       "        vertical-align: top;\n",
       "    }\n",
       "\n",
       "    .dataframe thead th {\n",
       "        text-align: right;\n",
       "    }\n",
       "</style>\n",
       "<table border=\"1\" class=\"dataframe\">\n",
       "  <thead>\n",
       "    <tr style=\"text-align: right;\">\n",
       "      <th></th>\n",
       "      <th>Dimension</th>\n",
       "      <th>Valeur propre</th>\n",
       "      <th>% variance expliquée</th>\n",
       "      <th>% variance expliquée cumulée</th>\n",
       "    </tr>\n",
       "  </thead>\n",
       "  <tbody>\n",
       "    <tr>\n",
       "      <th>0</th>\n",
       "      <td>Dim1</td>\n",
       "      <td>4.450795e-01</td>\n",
       "      <td>29.6720</td>\n",
       "      <td>29.6720</td>\n",
       "    </tr>\n",
       "    <tr>\n",
       "      <th>1</th>\n",
       "      <td>Dim2</td>\n",
       "      <td>3.050437e-01</td>\n",
       "      <td>20.3362</td>\n",
       "      <td>50.0082</td>\n",
       "    </tr>\n",
       "    <tr>\n",
       "      <th>2</th>\n",
       "      <td>Dim3</td>\n",
       "      <td>2.500060e-01</td>\n",
       "      <td>16.6671</td>\n",
       "      <td>66.6753</td>\n",
       "    </tr>\n",
       "    <tr>\n",
       "      <th>3</th>\n",
       "      <td>Dim4</td>\n",
       "      <td>2.050373e-01</td>\n",
       "      <td>13.6692</td>\n",
       "      <td>80.3444</td>\n",
       "    </tr>\n",
       "    <tr>\n",
       "      <th>4</th>\n",
       "      <td>Dim5</td>\n",
       "      <td>1.785152e-01</td>\n",
       "      <td>11.9010</td>\n",
       "      <td>92.2454</td>\n",
       "    </tr>\n",
       "    <tr>\n",
       "      <th>5</th>\n",
       "      <td>Dim6</td>\n",
       "      <td>1.163183e-01</td>\n",
       "      <td>7.7546</td>\n",
       "      <td>100.0000</td>\n",
       "    </tr>\n",
       "    <tr>\n",
       "      <th>6</th>\n",
       "      <td>Dim7</td>\n",
       "      <td>4.854940e-33</td>\n",
       "      <td>0.0000</td>\n",
       "      <td>100.0000</td>\n",
       "    </tr>\n",
       "    <tr>\n",
       "      <th>7</th>\n",
       "      <td>Dim8</td>\n",
       "      <td>1.424002e-33</td>\n",
       "      <td>0.0000</td>\n",
       "      <td>100.0000</td>\n",
       "    </tr>\n",
       "    <tr>\n",
       "      <th>8</th>\n",
       "      <td>Dim9</td>\n",
       "      <td>3.718155e-34</td>\n",
       "      <td>0.0000</td>\n",
       "      <td>100.0000</td>\n",
       "    </tr>\n",
       "  </tbody>\n",
       "</table>\n",
       "</div>"
      ],
      "text/plain": [
       "  Dimension  Valeur propre  % variance expliquée  % variance expliquée cumulée\n",
       "0      Dim1   4.450795e-01               29.6720                       29.6720\n",
       "1      Dim2   3.050437e-01               20.3362                       50.0082\n",
       "2      Dim3   2.500060e-01               16.6671                       66.6753\n",
       "3      Dim4   2.050373e-01               13.6692                       80.3444\n",
       "4      Dim5   1.785152e-01               11.9010                       92.2454\n",
       "5      Dim6   1.163183e-01                7.7546                      100.0000\n",
       "6      Dim7   4.854940e-33                0.0000                      100.0000\n",
       "7      Dim8   1.424002e-33                0.0000                      100.0000\n",
       "8      Dim9   3.718155e-34                0.0000                      100.0000"
      ]
     },
     "execution_count": 5,
     "metadata": {},
     "output_type": "execute_result"
    }
   ],
   "source": [
    "eig = pandas.DataFrame(\n",
    "    { \n",
    "        \"Dimension\" : [\"Dim\" + str(x + 1) for x in range(9)],\n",
    "        \"Valeur propre\": mca.eigenvalues_,\n",
    "        \"% variance expliquée\": numpy.round(mca.percentage_of_variance_, 4),\n",
    "        \"% variance expliquée cumulée\": numpy.round(numpy.cumsum(mca.percentage_of_variance_), 4),\n",
    "    }\n",
    ")\n",
    "eig"
   ]
  },
  {
   "cell_type": "code",
   "execution_count": 6,
   "metadata": {},
   "outputs": [
    {
     "data": {
      "image/png": "[encoded data removed]",
      "text/plain": [
       "<Figure size 1152x432 with 1 Axes>"
      ]
     },
     "metadata": {
      "needs_background": "light"
     },
     "output_type": "display_data"
    }
   ],
   "source": [
    "plt.figure(figsize=(16, 6))\n",
    "g_eig = seaborn.barplot(x = \"Dimension\", \n",
    "                        y = \"% variance expliquée\",\n",
    "                        color = \"lightseagreen\",\n",
    "                        data = eig)\n",
    "g_eig.set(ylabel = \"Variance expliquée (%)\")\n",
    "g_eig.figure.suptitle(\"Variance expliquée par dimension\")\n",
    "\n",
    "plt.show()"
   ]
  },
  {
   "cell_type": "markdown",
   "metadata": {
    "slideshow": {
     "slide_type": "slide"
    }
   },
   "source": [
    "## Représentation des individus"
   ]
  },
  {
   "cell_type": "code",
   "execution_count": 7,
   "metadata": {},
   "outputs": [
    {
     "data": {
      "text/html": [
       "<div>\n",
       "<style scoped>\n",
       "    .dataframe tbody tr th:only-of-type {\n",
       "        vertical-align: middle;\n",
       "    }\n",
       "\n",
       "    .dataframe tbody tr th {\n",
       "        vertical-align: top;\n",
       "    }\n",
       "\n",
       "    .dataframe thead th {\n",
       "        text-align: right;\n",
       "    }\n",
       "</style>\n",
       "<table border=\"1\" class=\"dataframe\">\n",
       "  <thead>\n",
       "    <tr style=\"text-align: right;\">\n",
       "      <th></th>\n",
       "      <th>Dim1</th>\n",
       "      <th>Dim2</th>\n",
       "      <th>Dim3</th>\n",
       "      <th>Dim4</th>\n",
       "      <th>Dim5</th>\n",
       "      <th>Dim6</th>\n",
       "      <th>Dim7</th>\n",
       "      <th>Dim8</th>\n",
       "      <th>Dim9</th>\n",
       "    </tr>\n",
       "  </thead>\n",
       "  <tbody>\n",
       "    <tr>\n",
       "      <th>0</th>\n",
       "      <td>0.055104</td>\n",
       "      <td>-0.541784</td>\n",
       "      <td>-0.446235</td>\n",
       "      <td>-0.172001</td>\n",
       "      <td>1.057355</td>\n",
       "      <td>-0.000739</td>\n",
       "      <td>0.004029</td>\n",
       "      <td>-0.30581</td>\n",
       "      <td>-0.723675</td>\n",
       "    </tr>\n",
       "    <tr>\n",
       "      <th>1</th>\n",
       "      <td>0.263386</td>\n",
       "      <td>0.233400</td>\n",
       "      <td>-0.324961</td>\n",
       "      <td>-0.102804</td>\n",
       "      <td>-0.444944</td>\n",
       "      <td>-0.834395</td>\n",
       "      <td>0.004029</td>\n",
       "      <td>-0.30581</td>\n",
       "      <td>-0.723675</td>\n",
       "    </tr>\n",
       "    <tr>\n",
       "      <th>2</th>\n",
       "      <td>-0.652721</td>\n",
       "      <td>-0.202892</td>\n",
       "      <td>0.039900</td>\n",
       "      <td>0.211090</td>\n",
       "      <td>-0.065702</td>\n",
       "      <td>0.232969</td>\n",
       "      <td>0.004029</td>\n",
       "      <td>-0.30581</td>\n",
       "      <td>-0.723675</td>\n",
       "    </tr>\n",
       "    <tr>\n",
       "      <th>3</th>\n",
       "      <td>-0.061709</td>\n",
       "      <td>-0.469458</td>\n",
       "      <td>0.045706</td>\n",
       "      <td>0.573659</td>\n",
       "      <td>-0.521356</td>\n",
       "      <td>-0.386500</td>\n",
       "      <td>0.004029</td>\n",
       "      <td>-0.30581</td>\n",
       "      <td>-0.723675</td>\n",
       "    </tr>\n",
       "    <tr>\n",
       "      <th>4</th>\n",
       "      <td>-0.132518</td>\n",
       "      <td>0.129916</td>\n",
       "      <td>1.194787</td>\n",
       "      <td>-0.423667</td>\n",
       "      <td>0.461580</td>\n",
       "      <td>-0.162475</td>\n",
       "      <td>0.004029</td>\n",
       "      <td>-0.30581</td>\n",
       "      <td>-0.723675</td>\n",
       "    </tr>\n",
       "  </tbody>\n",
       "</table>\n",
       "</div>"
      ],
      "text/plain": [
       "       Dim1      Dim2      Dim3      Dim4      Dim5      Dim6      Dim7  \\\n",
       "0  0.055104 -0.541784 -0.446235 -0.172001  1.057355 -0.000739  0.004029   \n",
       "1  0.263386  0.233400 -0.324961 -0.102804 -0.444944 -0.834395  0.004029   \n",
       "2 -0.652721 -0.202892  0.039900  0.211090 -0.065702  0.232969  0.004029   \n",
       "3 -0.061709 -0.469458  0.045706  0.573659 -0.521356 -0.386500  0.004029   \n",
       "4 -0.132518  0.129916  1.194787 -0.423667  0.461580 -0.162475  0.004029   \n",
       "\n",
       "      Dim8      Dim9  \n",
       "0 -0.30581 -0.723675  \n",
       "1 -0.30581 -0.723675  \n",
       "2 -0.30581 -0.723675  \n",
       "3 -0.30581 -0.723675  \n",
       "4 -0.30581 -0.723675  "
      ]
     },
     "execution_count": 7,
     "metadata": {},
     "output_type": "execute_result"
    }
   ],
   "source": [
    "df_ind = pandas.DataFrame(mca.row_coordinates(df)).rename(columns = {i: \"Dim\"+str(i+1) for i in range(10)})\n",
    "df_ind.head()"
   ]
  },
  {
   "cell_type": "code",
   "execution_count": 8,
   "metadata": {
    "slideshow": {
     "slide_type": "slide"
    }
   },
   "outputs": [
    {
     "data": {
      "image/png": "[encoded data removed]",
      "text/plain": [
       "<Figure size 864x432 with 1 Axes>"
      ]
     },
     "metadata": {
      "needs_background": "light"
     },
     "output_type": "display_data"
    }
   ],
   "source": [
    "g_ind = seaborn.lmplot(x = \"Dim1\", y = \"Dim2\", data = df_ind, fit_reg = False, \n",
    "                       height = 6, aspect = 2)\n",
    "g_ind.fig.suptitle(\"Modalités en lignes\")\n",
    "plt.show()"
   ]
  },
  {
   "cell_type": "code",
   "execution_count": 9,
   "metadata": {
    "slideshow": {
     "slide_type": "slide"
    }
   },
   "outputs": [
    {
     "data": {
      "text/html": [
       "<div>\n",
       "<style scoped>\n",
       "    .dataframe tbody tr th:only-of-type {\n",
       "        vertical-align: middle;\n",
       "    }\n",
       "\n",
       "    .dataframe tbody tr th {\n",
       "        vertical-align: top;\n",
       "    }\n",
       "\n",
       "    .dataframe thead th {\n",
       "        text-align: right;\n",
       "    }\n",
       "</style>\n",
       "<table border=\"1\" class=\"dataframe\">\n",
       "  <thead>\n",
       "    <tr style=\"text-align: right;\">\n",
       "      <th></th>\n",
       "      <th>Dim1</th>\n",
       "      <th>Dim2</th>\n",
       "      <th>Nb</th>\n",
       "    </tr>\n",
       "  </thead>\n",
       "  <tbody>\n",
       "    <tr>\n",
       "      <th>0</th>\n",
       "      <td>-0.652721</td>\n",
       "      <td>-0.202892</td>\n",
       "      <td>670</td>\n",
       "    </tr>\n",
       "    <tr>\n",
       "      <th>1</th>\n",
       "      <td>-0.327626</td>\n",
       "      <td>0.499967</td>\n",
       "      <td>387</td>\n",
       "    </tr>\n",
       "    <tr>\n",
       "      <th>2</th>\n",
       "      <td>-0.132518</td>\n",
       "      <td>0.129916</td>\n",
       "      <td>154</td>\n",
       "    </tr>\n",
       "    <tr>\n",
       "      <th>3</th>\n",
       "      <td>-0.061709</td>\n",
       "      <td>-0.469458</td>\n",
       "      <td>192</td>\n",
       "    </tr>\n",
       "    <tr>\n",
       "      <th>4</th>\n",
       "      <td>0.055104</td>\n",
       "      <td>-0.541784</td>\n",
       "      <td>118</td>\n",
       "    </tr>\n",
       "  </tbody>\n",
       "</table>\n",
       "</div>"
      ],
      "text/plain": [
       "       Dim1      Dim2   Nb\n",
       "0 -0.652721 -0.202892  670\n",
       "1 -0.327626  0.499967  387\n",
       "2 -0.132518  0.129916  154\n",
       "3 -0.061709 -0.469458  192\n",
       "4  0.055104 -0.541784  118"
      ]
     },
     "execution_count": 9,
     "metadata": {},
     "output_type": "execute_result"
    }
   ],
   "source": [
    "df_ind_bis = df_ind.filter([\"Dim1\", \"Dim2\"]).groupby([\"Dim1\", \"Dim2\"]).agg(Nb = (\"Dim1\", \"count\")).reset_index()\n",
    "df_ind_bis.head()"
   ]
  },
  {
   "cell_type": "code",
   "execution_count": 10,
   "metadata": {
    "slideshow": {
     "slide_type": "slide"
    }
   },
   "outputs": [
    {
     "data": {
      "image/png": "[encoded data removed]",
      "text/plain": [
       "<Figure size 1152x432 with 1 Axes>"
      ]
     },
     "metadata": {
      "needs_background": "light"
     },
     "output_type": "display_data"
    }
   ],
   "source": [
    "plt.figure(figsize=(16, 6))\n",
    "g_ind = seaborn.scatterplot(x = \"Dim1\", y = \"Dim2\", size = \"Nb\", data = df_ind_bis)\n",
    "g_ind.figure.suptitle(\"Modalités en lignes\")\n",
    "plt.show()"
   ]
  },
  {
   "cell_type": "markdown",
   "metadata": {
    "slideshow": {
     "slide_type": "slide"
    }
   },
   "source": [
    "## Représentation des variables"
   ]
  },
  {
   "cell_type": "code",
   "execution_count": 11,
   "metadata": {},
   "outputs": [
    {
     "name": "stderr",
     "output_type": "stream",
     "text": [
      "/usr/local/lib/python3.9/site-packages/prince/ca.py:206: FutureWarning: is_sparse is deprecated and will be removed in a future version. Check `isinstance(dtype, pd.SparseDtype)` instead.\n",
      "  is_sparse = X.dtypes.apply(pd.api.types.is_sparse).all()\n"
     ]
    },
    {
     "data": {
      "text/html": [
       "<div>\n",
       "<style scoped>\n",
       "    .dataframe tbody tr th:only-of-type {\n",
       "        vertical-align: middle;\n",
       "    }\n",
       "\n",
       "    .dataframe tbody tr th {\n",
       "        vertical-align: top;\n",
       "    }\n",
       "\n",
       "    .dataframe thead th {\n",
       "        text-align: right;\n",
       "    }\n",
       "</style>\n",
       "<table border=\"1\" class=\"dataframe\">\n",
       "  <thead>\n",
       "    <tr style=\"text-align: right;\">\n",
       "      <th></th>\n",
       "      <th>Dim1</th>\n",
       "      <th>Dim2</th>\n",
       "      <th>Dim3</th>\n",
       "      <th>Dim4</th>\n",
       "      <th>Dim5</th>\n",
       "      <th>Dim6</th>\n",
       "      <th>Dim7</th>\n",
       "      <th>Dim8</th>\n",
       "      <th>Dim9</th>\n",
       "    </tr>\n",
       "  </thead>\n",
       "  <tbody>\n",
       "    <tr>\n",
       "      <th>Class_1st</th>\n",
       "      <td>1.151941</td>\n",
       "      <td>-1.231418</td>\n",
       "      <td>-0.890008</td>\n",
       "      <td>-0.049533</td>\n",
       "      <td>1.460940</td>\n",
       "      <td>-0.005902</td>\n",
       "      <td>0.395783</td>\n",
       "      <td>0.006324</td>\n",
       "      <td>-0.171133</td>\n",
       "    </tr>\n",
       "    <tr>\n",
       "      <th>Class_2nd</th>\n",
       "      <td>0.651259</td>\n",
       "      <td>0.252522</td>\n",
       "      <td>2.392076</td>\n",
       "      <td>-0.505359</td>\n",
       "      <td>0.454055</td>\n",
       "      <td>-0.226544</td>\n",
       "      <td>0.395783</td>\n",
       "      <td>0.006324</td>\n",
       "      <td>-0.171133</td>\n",
       "    </tr>\n",
       "    <tr>\n",
       "      <th>Class_3rd</th>\n",
       "      <td>0.130599</td>\n",
       "      <td>1.070050</td>\n",
       "      <td>-0.659068</td>\n",
       "      <td>-0.580899</td>\n",
       "      <td>-0.307933</td>\n",
       "      <td>-0.298099</td>\n",
       "      <td>0.395783</td>\n",
       "      <td>0.006324</td>\n",
       "      <td>-0.171133</td>\n",
       "    </tr>\n",
       "    <tr>\n",
       "      <th>Class_Crew</th>\n",
       "      <td>-0.736941</td>\n",
       "      <td>-0.482727</td>\n",
       "      <td>0.082275</td>\n",
       "      <td>0.644339</td>\n",
       "      <td>-0.437074</td>\n",
       "      <td>0.312928</td>\n",
       "      <td>0.395783</td>\n",
       "      <td>0.006324</td>\n",
       "      <td>-0.171133</td>\n",
       "    </tr>\n",
       "    <tr>\n",
       "      <th>Sex_Female</th>\n",
       "      <td>1.574794</td>\n",
       "      <td>0.008927</td>\n",
       "      <td>-0.009280</td>\n",
       "      <td>-0.338706</td>\n",
       "      <td>-0.501996</td>\n",
       "      <td>0.914393</td>\n",
       "      <td>0.395783</td>\n",
       "      <td>0.006324</td>\n",
       "      <td>-0.171133</td>\n",
       "    </tr>\n",
       "    <tr>\n",
       "      <th>Sex_Male</th>\n",
       "      <td>-0.427587</td>\n",
       "      <td>-0.002424</td>\n",
       "      <td>0.002520</td>\n",
       "      <td>0.091965</td>\n",
       "      <td>0.136302</td>\n",
       "      <td>-0.248275</td>\n",
       "      <td>0.395783</td>\n",
       "      <td>0.006324</td>\n",
       "      <td>-0.171133</td>\n",
       "    </tr>\n",
       "    <tr>\n",
       "      <th>Age_Adult</th>\n",
       "      <td>-0.067828</td>\n",
       "      <td>-0.153321</td>\n",
       "      <td>-0.001242</td>\n",
       "      <td>-0.141832</td>\n",
       "      <td>-0.059028</td>\n",
       "      <td>-0.019826</td>\n",
       "      <td>0.395783</td>\n",
       "      <td>0.006324</td>\n",
       "      <td>-0.171133</td>\n",
       "    </tr>\n",
       "    <tr>\n",
       "      <th>Age_Child</th>\n",
       "      <td>1.301802</td>\n",
       "      <td>2.942646</td>\n",
       "      <td>0.023828</td>\n",
       "      <td>2.722128</td>\n",
       "      <td>1.132903</td>\n",
       "      <td>0.380510</td>\n",
       "      <td>0.395783</td>\n",
       "      <td>0.006324</td>\n",
       "      <td>-0.171133</td>\n",
       "    </tr>\n",
       "    <tr>\n",
       "      <th>Survived_No</th>\n",
       "      <td>-0.509477</td>\n",
       "      <td>0.190238</td>\n",
       "      <td>-0.003751</td>\n",
       "      <td>-0.212137</td>\n",
       "      <td>0.248761</td>\n",
       "      <td>0.272994</td>\n",
       "      <td>0.395783</td>\n",
       "      <td>0.006324</td>\n",
       "      <td>-0.171133</td>\n",
       "    </tr>\n",
       "    <tr>\n",
       "      <th>Survived_Yes</th>\n",
       "      <td>1.067680</td>\n",
       "      <td>-0.398669</td>\n",
       "      <td>0.007861</td>\n",
       "      <td>0.444562</td>\n",
       "      <td>-0.521314</td>\n",
       "      <td>-0.572097</td>\n",
       "      <td>0.395783</td>\n",
       "      <td>0.006324</td>\n",
       "      <td>-0.171133</td>\n",
       "    </tr>\n",
       "  </tbody>\n",
       "</table>\n",
       "</div>"
      ],
      "text/plain": [
       "                  Dim1      Dim2      Dim3      Dim4      Dim5      Dim6  \\\n",
       "Class_1st     1.151941 -1.231418 -0.890008 -0.049533  1.460940 -0.005902   \n",
       "Class_2nd     0.651259  0.252522  2.392076 -0.505359  0.454055 -0.226544   \n",
       "Class_3rd     0.130599  1.070050 -0.659068 -0.580899 -0.307933 -0.298099   \n",
       "Class_Crew   -0.736941 -0.482727  0.082275  0.644339 -0.437074  0.312928   \n",
       "Sex_Female    1.574794  0.008927 -0.009280 -0.338706 -0.501996  0.914393   \n",
       "Sex_Male     -0.427587 -0.002424  0.002520  0.091965  0.136302 -0.248275   \n",
       "Age_Adult    -0.067828 -0.153321 -0.001242 -0.141832 -0.059028 -0.019826   \n",
       "Age_Child     1.301802  2.942646  0.023828  2.722128  1.132903  0.380510   \n",
       "Survived_No  -0.509477  0.190238 -0.003751 -0.212137  0.248761  0.272994   \n",
       "Survived_Yes  1.067680 -0.398669  0.007861  0.444562 -0.521314 -0.572097   \n",
       "\n",
       "                  Dim7      Dim8      Dim9  \n",
       "Class_1st     0.395783  0.006324 -0.171133  \n",
       "Class_2nd     0.395783  0.006324 -0.171133  \n",
       "Class_3rd     0.395783  0.006324 -0.171133  \n",
       "Class_Crew    0.395783  0.006324 -0.171133  \n",
       "Sex_Female    0.395783  0.006324 -0.171133  \n",
       "Sex_Male      0.395783  0.006324 -0.171133  \n",
       "Age_Adult     0.395783  0.006324 -0.171133  \n",
       "Age_Child     0.395783  0.006324 -0.171133  \n",
       "Survived_No   0.395783  0.006324 -0.171133  \n",
       "Survived_Yes  0.395783  0.006324 -0.171133  "
      ]
     },
     "execution_count": 11,
     "metadata": {},
     "output_type": "execute_result"
    }
   ],
   "source": [
    "df_var = pandas.DataFrame(mca.column_coordinates(df)).rename(columns = {i: \"Dim\"+str(i+1) for i in range(10)})\n",
    "df_var"
   ]
  },
  {
   "cell_type": "code",
   "execution_count": 12,
   "metadata": {
    "slideshow": {
     "slide_type": "slide"
    }
   },
   "outputs": [
    {
     "data": {
      "image/png": "[encoded data removed]",
      "text/plain": [
       "<Figure size 864x432 with 1 Axes>"
      ]
     },
     "metadata": {
      "needs_background": "light"
     },
     "output_type": "display_data"
    }
   ],
   "source": [
    "g_var = seaborn.lmplot(x = \"Dim1\", y = \"Dim2\", data = df_var, fit_reg = False, \n",
    "                       height = 6, aspect = 2)\n",
    "g_var.fig.suptitle(\"Modalités en colonnes\")\n",
    "for i in df_var.index:\n",
    "    plt.text(df_var.loc[i].Dim1, df_var.loc[i].Dim2, i, size = \"xx-large\")\n",
    "plt.show()"
   ]
  },
  {
   "cell_type": "markdown",
   "metadata": {
    "slideshow": {
     "slide_type": "slide"
    }
   },
   "source": [
    "## Représentation simultanée"
   ]
  },
  {
   "cell_type": "code",
   "execution_count": 13,
   "metadata": {
    "scrolled": false,
    "slideshow": {
     "slide_type": "slide"
    }
   },
   "outputs": [
    {
     "data": {
      "image/png": "[encoded data removed]",
      "text/plain": [
       "<Figure size 1152x576 with 1 Axes>"
      ]
     },
     "metadata": {
      "needs_background": "light"
     },
     "output_type": "display_data"
    }
   ],
   "source": [
    "plt.figure(figsize=(16, 8))\n",
    "\n",
    "g_simult = seaborn.scatterplot(x = \"Dim1\", y = \"Dim2\", size = \"Nb\", data = df_ind_bis)\n",
    "\n",
    "for i in df_var.index:\n",
    "    plt.scatter(df_var.loc[i].Dim1, df_var.loc[i].Dim2, alpha = .25, c = \"black\")\n",
    "    plt.text(df_var.loc[i].Dim1, df_var.loc[i].Dim2, i, size = \"xx-large\", color = \"darkred\", ha = \"center\")\n",
    "\n",
    "g_simult.figure.suptitle(\"Représentation conjointe\")\n",
    "\n",
    "plt.show()"
   ]
  }
 ],
 "metadata": {
  "celltoolbar": "Diaporama",
  "kernelspec": {
   "display_name": "Python 3",
   "language": "python",
   "name": "python3"
  },
  "language_info": {
   "codemirror_mode": {
    "name": "ipython",
    "version": 3
   },
   "file_extension": ".py",
   "mimetype": "text/x-python",
   "name": "python",
   "nbconvert_exporter": "python",
   "pygments_lexer": "ipython3",
   "version": "3.9.9"
  }
 },
 "nbformat": 4,
 "nbformat_minor": 4
}
