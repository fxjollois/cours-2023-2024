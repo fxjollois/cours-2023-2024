{
 "cells": [
  {
   "cell_type": "markdown",
   "metadata": {
    "slideshow": {
     "slide_type": "slide"
    }
   },
   "source": [
    "# Analyse des Correspondances Multiples (ACM)\n",
    "\n",
    "## Mastère ESD - Introduction au Machine Learning"
   ]
  },
  {
   "cell_type": "markdown",
   "metadata": {
    "slideshow": {
     "slide_type": "slide"
    }
   },
   "source": [
    "## Librairies utilisées"
   ]
  },
  {
   "cell_type": "code",
   "execution_count": 1,
   "metadata": {},
   "outputs": [],
   "source": [
    "import pandas\n",
    "import numpy\n",
    "import matplotlib.pyplot as plt\n",
    "import seaborn\n",
    "seaborn.set_style(\"white\")\n",
    "\n",
    "from prince import MCA"
   ]
  },
  {
   "cell_type": "markdown",
   "metadata": {
    "slideshow": {
     "slide_type": "slide"
    }
   },
   "source": [
    "## Données utilisées\n",
    "\n",
    "Données des passagers du Titanic [à télécharger](titanic.csv)"
   ]
  },
  {
   "cell_type": "code",
   "execution_count": 2,
   "metadata": {
    "scrolled": false
   },
   "outputs": [
    {
     "data": {
      "text/html": [
       "<div>\n",
       "<style scoped>\n",
       "    .dataframe tbody tr th:only-of-type {\n",
       "        vertical-align: middle;\n",
       "    }\n",
       "\n",
       "    .dataframe tbody tr th {\n",
       "        vertical-align: top;\n",
       "    }\n",
       "\n",
       "    .dataframe thead th {\n",
       "        text-align: right;\n",
       "    }\n",
       "</style>\n",
       "<table border=\"1\" class=\"dataframe\">\n",
       "  <thead>\n",
       "    <tr style=\"text-align: right;\">\n",
       "      <th></th>\n",
       "      <th>Class</th>\n",
       "      <th>Sex</th>\n",
       "      <th>Age</th>\n",
       "      <th>Survived</th>\n",
       "    </tr>\n",
       "  </thead>\n",
       "  <tbody>\n",
       "    <tr>\n",
       "      <th>0</th>\n",
       "      <td>1st</td>\n",
       "      <td>Male</td>\n",
       "      <td>Adult</td>\n",
       "      <td>No</td>\n",
       "    </tr>\n",
       "    <tr>\n",
       "      <th>1</th>\n",
       "      <td>3rd</td>\n",
       "      <td>Male</td>\n",
       "      <td>Adult</td>\n",
       "      <td>Yes</td>\n",
       "    </tr>\n",
       "    <tr>\n",
       "      <th>2</th>\n",
       "      <td>Crew</td>\n",
       "      <td>Male</td>\n",
       "      <td>Adult</td>\n",
       "      <td>No</td>\n",
       "    </tr>\n",
       "    <tr>\n",
       "      <th>3</th>\n",
       "      <td>Crew</td>\n",
       "      <td>Male</td>\n",
       "      <td>Adult</td>\n",
       "      <td>Yes</td>\n",
       "    </tr>\n",
       "    <tr>\n",
       "      <th>4</th>\n",
       "      <td>2nd</td>\n",
       "      <td>Male</td>\n",
       "      <td>Adult</td>\n",
       "      <td>No</td>\n",
       "    </tr>\n",
       "  </tbody>\n",
       "</table>\n",
       "</div>"
      ],
      "text/plain": [
       "  Class   Sex    Age Survived\n",
       "0   1st  Male  Adult       No\n",
       "1   3rd  Male  Adult      Yes\n",
       "2  Crew  Male  Adult       No\n",
       "3  Crew  Male  Adult      Yes\n",
       "4   2nd  Male  Adult       No"
      ]
     },
     "execution_count": 2,
     "metadata": {},
     "output_type": "execute_result"
    }
   ],
   "source": [
    "df = pandas.read_csv(\"titanic.csv\")\n",
    "df.head()"
   ]
  },
  {
   "cell_type": "markdown",
   "metadata": {
    "slideshow": {
     "slide_type": "slide"
    }
   },
   "source": [
    "## Calcul de ACM"
   ]
  },
  {
   "cell_type": "code",
   "execution_count": 3,
   "metadata": {},
   "outputs": [
    {
     "data": {
      "text/plain": [
       "MCA(n_components=10)"
      ]
     },
     "execution_count": 3,
     "metadata": {},
     "output_type": "execute_result"
    }
   ],
   "source": [
    "mca = MCA(n_components = 10)\n",
    "mca.fit(df)"
   ]
  },
  {
   "cell_type": "markdown",
   "metadata": {
    "slideshow": {
     "slide_type": "slide"
    }
   },
   "source": [
    "## Valeurs propres"
   ]
  },
  {
   "cell_type": "code",
   "execution_count": 4,
   "metadata": {
    "scrolled": true
   },
   "outputs": [
    {
     "name": "stdout",
     "output_type": "stream",
     "text": [
      "[0.4450794730527672, 0.3050437322075409, 0.25000600109695115, 0.2050373057546917, 0.17851515983455574, 0.1163183280534945, 8.735587841917454e-33, 4.0706080630322065e-33, 2.0357281136133345e-34, 1.990926374845764e-35]\n",
      "1.5\n",
      "[0.2967196487018448, 0.20336248813836058, 0.16667066739796743, 0.13669153716979446, 0.1190101065563705, 0.077545552035663, 5.82372522794497e-33, 2.7137387086881377e-33, 1.357152075742223e-34, 1.3272842498971758e-35]\n"
     ]
    }
   ],
   "source": [
    "print(mca.eigenvalues_)\n",
    "print(mca.total_inertia_)\n",
    "print(mca.explained_inertia_)"
   ]
  },
  {
   "cell_type": "code",
   "execution_count": 5,
   "metadata": {
    "slideshow": {
     "slide_type": "-"
    }
   },
   "outputs": [
    {
     "data": {
      "text/html": [
       "<div>\n",
       "<style scoped>\n",
       "    .dataframe tbody tr th:only-of-type {\n",
       "        vertical-align: middle;\n",
       "    }\n",
       "\n",
       "    .dataframe tbody tr th {\n",
       "        vertical-align: top;\n",
       "    }\n",
       "\n",
       "    .dataframe thead th {\n",
       "        text-align: right;\n",
       "    }\n",
       "</style>\n",
       "<table border=\"1\" class=\"dataframe\">\n",
       "  <thead>\n",
       "    <tr style=\"text-align: right;\">\n",
       "      <th></th>\n",
       "      <th>Dimension</th>\n",
       "      <th>Valeur propre</th>\n",
       "      <th>% variance expliquée</th>\n",
       "      <th>% variance expliquée cumulée</th>\n",
       "    </tr>\n",
       "  </thead>\n",
       "  <tbody>\n",
       "    <tr>\n",
       "      <th>0</th>\n",
       "      <td>Dim1</td>\n",
       "      <td>4.450795e-01</td>\n",
       "      <td>29.67</td>\n",
       "      <td>29.67</td>\n",
       "    </tr>\n",
       "    <tr>\n",
       "      <th>1</th>\n",
       "      <td>Dim2</td>\n",
       "      <td>3.050437e-01</td>\n",
       "      <td>20.34</td>\n",
       "      <td>50.01</td>\n",
       "    </tr>\n",
       "    <tr>\n",
       "      <th>2</th>\n",
       "      <td>Dim3</td>\n",
       "      <td>2.500060e-01</td>\n",
       "      <td>16.67</td>\n",
       "      <td>66.68</td>\n",
       "    </tr>\n",
       "    <tr>\n",
       "      <th>3</th>\n",
       "      <td>Dim4</td>\n",
       "      <td>2.050373e-01</td>\n",
       "      <td>13.67</td>\n",
       "      <td>80.34</td>\n",
       "    </tr>\n",
       "    <tr>\n",
       "      <th>4</th>\n",
       "      <td>Dim5</td>\n",
       "      <td>1.785152e-01</td>\n",
       "      <td>11.90</td>\n",
       "      <td>92.25</td>\n",
       "    </tr>\n",
       "    <tr>\n",
       "      <th>5</th>\n",
       "      <td>Dim6</td>\n",
       "      <td>1.163183e-01</td>\n",
       "      <td>7.75</td>\n",
       "      <td>100.00</td>\n",
       "    </tr>\n",
       "    <tr>\n",
       "      <th>6</th>\n",
       "      <td>Dim7</td>\n",
       "      <td>8.735588e-33</td>\n",
       "      <td>0.00</td>\n",
       "      <td>100.00</td>\n",
       "    </tr>\n",
       "    <tr>\n",
       "      <th>7</th>\n",
       "      <td>Dim8</td>\n",
       "      <td>4.070608e-33</td>\n",
       "      <td>0.00</td>\n",
       "      <td>100.00</td>\n",
       "    </tr>\n",
       "    <tr>\n",
       "      <th>8</th>\n",
       "      <td>Dim9</td>\n",
       "      <td>2.035728e-34</td>\n",
       "      <td>0.00</td>\n",
       "      <td>100.00</td>\n",
       "    </tr>\n",
       "    <tr>\n",
       "      <th>9</th>\n",
       "      <td>Dim10</td>\n",
       "      <td>1.990926e-35</td>\n",
       "      <td>0.00</td>\n",
       "      <td>100.00</td>\n",
       "    </tr>\n",
       "  </tbody>\n",
       "</table>\n",
       "</div>"
      ],
      "text/plain": [
       "  Dimension  Valeur propre  % variance expliquée  % variance expliquée cumulée\n",
       "0      Dim1   4.450795e-01                 29.67                         29.67\n",
       "1      Dim2   3.050437e-01                 20.34                         50.01\n",
       "2      Dim3   2.500060e-01                 16.67                         66.68\n",
       "3      Dim4   2.050373e-01                 13.67                         80.34\n",
       "4      Dim5   1.785152e-01                 11.90                         92.25\n",
       "5      Dim6   1.163183e-01                  7.75                        100.00\n",
       "6      Dim7   8.735588e-33                  0.00                        100.00\n",
       "7      Dim8   4.070608e-33                  0.00                        100.00\n",
       "8      Dim9   2.035728e-34                  0.00                        100.00\n",
       "9     Dim10   1.990926e-35                  0.00                        100.00"
      ]
     },
     "execution_count": 5,
     "metadata": {},
     "output_type": "execute_result"
    }
   ],
   "source": [
    "eig = pandas.DataFrame(\n",
    "    { \n",
    "        \"Dimension\" : [\"Dim\" + str(x + 1) for x in range(10)],\n",
    "        \"Valeur propre\": mca.eigenvalues_,\n",
    "        \"% variance expliquée\": numpy.round(mca.explained_inertia_, 4) * 100,\n",
    "        \"% variance expliquée cumulée\": numpy.round(numpy.cumsum(mca.explained_inertia_), 4) * 100,\n",
    "    }\n",
    ")\n",
    "eig"
   ]
  },
  {
   "cell_type": "markdown",
   "metadata": {
    "slideshow": {
     "slide_type": "slide"
    }
   },
   "source": [
    "## Représentation des individus"
   ]
  },
  {
   "cell_type": "code",
   "execution_count": 6,
   "metadata": {},
   "outputs": [
    {
     "data": {
      "text/html": [
       "<div>\n",
       "<style scoped>\n",
       "    .dataframe tbody tr th:only-of-type {\n",
       "        vertical-align: middle;\n",
       "    }\n",
       "\n",
       "    .dataframe tbody tr th {\n",
       "        vertical-align: top;\n",
       "    }\n",
       "\n",
       "    .dataframe thead th {\n",
       "        text-align: right;\n",
       "    }\n",
       "</style>\n",
       "<table border=\"1\" class=\"dataframe\">\n",
       "  <thead>\n",
       "    <tr style=\"text-align: right;\">\n",
       "      <th></th>\n",
       "      <th>Dim1</th>\n",
       "      <th>Dim2</th>\n",
       "      <th>Dim3</th>\n",
       "      <th>Dim4</th>\n",
       "      <th>Dim5</th>\n",
       "      <th>Dim6</th>\n",
       "      <th>Dim7</th>\n",
       "      <th>Dim8</th>\n",
       "      <th>Dim9</th>\n",
       "      <th>Dim10</th>\n",
       "    </tr>\n",
       "  </thead>\n",
       "  <tbody>\n",
       "    <tr>\n",
       "      <th>0</th>\n",
       "      <td>0.055104</td>\n",
       "      <td>-0.541784</td>\n",
       "      <td>-0.446235</td>\n",
       "      <td>-0.172001</td>\n",
       "      <td>1.057355</td>\n",
       "      <td>-0.000739</td>\n",
       "      <td>-0.581726</td>\n",
       "      <td>0.454156</td>\n",
       "      <td>0.467342</td>\n",
       "      <td>-0.486753</td>\n",
       "    </tr>\n",
       "    <tr>\n",
       "      <th>1</th>\n",
       "      <td>0.263386</td>\n",
       "      <td>0.233400</td>\n",
       "      <td>-0.324961</td>\n",
       "      <td>-0.102804</td>\n",
       "      <td>-0.444944</td>\n",
       "      <td>-0.834395</td>\n",
       "      <td>-0.581726</td>\n",
       "      <td>0.454156</td>\n",
       "      <td>0.467342</td>\n",
       "      <td>-0.486753</td>\n",
       "    </tr>\n",
       "    <tr>\n",
       "      <th>2</th>\n",
       "      <td>-0.652721</td>\n",
       "      <td>-0.202892</td>\n",
       "      <td>0.039900</td>\n",
       "      <td>0.211090</td>\n",
       "      <td>-0.065702</td>\n",
       "      <td>0.232969</td>\n",
       "      <td>-0.581726</td>\n",
       "      <td>0.454156</td>\n",
       "      <td>0.467342</td>\n",
       "      <td>-0.486753</td>\n",
       "    </tr>\n",
       "    <tr>\n",
       "      <th>3</th>\n",
       "      <td>-0.061709</td>\n",
       "      <td>-0.469458</td>\n",
       "      <td>0.045706</td>\n",
       "      <td>0.573659</td>\n",
       "      <td>-0.521356</td>\n",
       "      <td>-0.386500</td>\n",
       "      <td>-0.581726</td>\n",
       "      <td>0.454156</td>\n",
       "      <td>0.467342</td>\n",
       "      <td>-0.486753</td>\n",
       "    </tr>\n",
       "    <tr>\n",
       "      <th>4</th>\n",
       "      <td>-0.132518</td>\n",
       "      <td>0.129916</td>\n",
       "      <td>1.194787</td>\n",
       "      <td>-0.423667</td>\n",
       "      <td>0.461580</td>\n",
       "      <td>-0.162475</td>\n",
       "      <td>-0.581726</td>\n",
       "      <td>0.454156</td>\n",
       "      <td>0.467342</td>\n",
       "      <td>-0.486753</td>\n",
       "    </tr>\n",
       "  </tbody>\n",
       "</table>\n",
       "</div>"
      ],
      "text/plain": [
       "       Dim1      Dim2      Dim3      Dim4      Dim5      Dim6      Dim7  \\\n",
       "0  0.055104 -0.541784 -0.446235 -0.172001  1.057355 -0.000739 -0.581726   \n",
       "1  0.263386  0.233400 -0.324961 -0.102804 -0.444944 -0.834395 -0.581726   \n",
       "2 -0.652721 -0.202892  0.039900  0.211090 -0.065702  0.232969 -0.581726   \n",
       "3 -0.061709 -0.469458  0.045706  0.573659 -0.521356 -0.386500 -0.581726   \n",
       "4 -0.132518  0.129916  1.194787 -0.423667  0.461580 -0.162475 -0.581726   \n",
       "\n",
       "       Dim8      Dim9     Dim10  \n",
       "0  0.454156  0.467342 -0.486753  \n",
       "1  0.454156  0.467342 -0.486753  \n",
       "2  0.454156  0.467342 -0.486753  \n",
       "3  0.454156  0.467342 -0.486753  \n",
       "4  0.454156  0.467342 -0.486753  "
      ]
     },
     "execution_count": 6,
     "metadata": {},
     "output_type": "execute_result"
    }
   ],
   "source": [
    "df_ind = pandas.DataFrame(mca.row_coordinates(df)).rename(columns = {i: \"Dim\"+str(i+1) for i in range(10)})\n",
    "df_ind.head()"
   ]
  },
  {
   "cell_type": "code",
   "execution_count": 7,
   "metadata": {
    "slideshow": {
     "slide_type": "slide"
    }
   },
   "outputs": [
    {
     "data": {
      "image/png": "[encoded data removed]",
      "text/plain": [
       "<Figure size 864x288 with 1 Axes>"
      ]
     },
     "metadata": {},
     "output_type": "display_data"
    }
   ],
   "source": [
    "g_ind = seaborn.lmplot(x = \"Dim1\", y = \"Dim2\", data = df_ind, fit_reg = False, \n",
    "                       height = 4, aspect = 3)\n",
    "g_ind.fig.suptitle(\"Modalités en lignes\")\n",
    "plt.show()"
   ]
  },
  {
   "cell_type": "markdown",
   "metadata": {
    "slideshow": {
     "slide_type": "slide"
    }
   },
   "source": [
    "## Représentation des variables"
   ]
  },
  {
   "cell_type": "code",
   "execution_count": 8,
   "metadata": {},
   "outputs": [
    {
     "data": {
      "text/html": [
       "<div>\n",
       "<style scoped>\n",
       "    .dataframe tbody tr th:only-of-type {\n",
       "        vertical-align: middle;\n",
       "    }\n",
       "\n",
       "    .dataframe tbody tr th {\n",
       "        vertical-align: top;\n",
       "    }\n",
       "\n",
       "    .dataframe thead th {\n",
       "        text-align: right;\n",
       "    }\n",
       "</style>\n",
       "<table border=\"1\" class=\"dataframe\">\n",
       "  <thead>\n",
       "    <tr style=\"text-align: right;\">\n",
       "      <th></th>\n",
       "      <th>Dim1</th>\n",
       "      <th>Dim2</th>\n",
       "      <th>Dim3</th>\n",
       "      <th>Dim4</th>\n",
       "      <th>Dim5</th>\n",
       "      <th>Dim6</th>\n",
       "      <th>Dim7</th>\n",
       "      <th>Dim8</th>\n",
       "      <th>Dim9</th>\n",
       "      <th>Dim10</th>\n",
       "    </tr>\n",
       "  </thead>\n",
       "  <tbody>\n",
       "    <tr>\n",
       "      <th>Class_1st</th>\n",
       "      <td>1.151941</td>\n",
       "      <td>-1.231418</td>\n",
       "      <td>-0.890008</td>\n",
       "      <td>-0.049533</td>\n",
       "      <td>1.460940</td>\n",
       "      <td>-0.005902</td>\n",
       "      <td>0.051305</td>\n",
       "      <td>0.077772</td>\n",
       "      <td>-0.013464</td>\n",
       "      <td>0.07928</td>\n",
       "    </tr>\n",
       "    <tr>\n",
       "      <th>Class_2nd</th>\n",
       "      <td>0.651259</td>\n",
       "      <td>0.252522</td>\n",
       "      <td>2.392076</td>\n",
       "      <td>-0.505359</td>\n",
       "      <td>0.454055</td>\n",
       "      <td>-0.226544</td>\n",
       "      <td>0.051305</td>\n",
       "      <td>0.077772</td>\n",
       "      <td>-0.013464</td>\n",
       "      <td>0.07928</td>\n",
       "    </tr>\n",
       "    <tr>\n",
       "      <th>Class_3rd</th>\n",
       "      <td>0.130599</td>\n",
       "      <td>1.070050</td>\n",
       "      <td>-0.659068</td>\n",
       "      <td>-0.580899</td>\n",
       "      <td>-0.307933</td>\n",
       "      <td>-0.298099</td>\n",
       "      <td>0.051305</td>\n",
       "      <td>0.077772</td>\n",
       "      <td>-0.013464</td>\n",
       "      <td>0.07928</td>\n",
       "    </tr>\n",
       "    <tr>\n",
       "      <th>Class_Crew</th>\n",
       "      <td>-0.736941</td>\n",
       "      <td>-0.482727</td>\n",
       "      <td>0.082275</td>\n",
       "      <td>0.644339</td>\n",
       "      <td>-0.437074</td>\n",
       "      <td>0.312928</td>\n",
       "      <td>0.051305</td>\n",
       "      <td>0.077772</td>\n",
       "      <td>-0.013464</td>\n",
       "      <td>0.07928</td>\n",
       "    </tr>\n",
       "    <tr>\n",
       "      <th>Sex_Female</th>\n",
       "      <td>1.574794</td>\n",
       "      <td>0.008927</td>\n",
       "      <td>-0.009280</td>\n",
       "      <td>-0.338706</td>\n",
       "      <td>-0.501996</td>\n",
       "      <td>0.914393</td>\n",
       "      <td>0.051305</td>\n",
       "      <td>0.077772</td>\n",
       "      <td>-0.013464</td>\n",
       "      <td>0.07928</td>\n",
       "    </tr>\n",
       "    <tr>\n",
       "      <th>Sex_Male</th>\n",
       "      <td>-0.427587</td>\n",
       "      <td>-0.002424</td>\n",
       "      <td>0.002520</td>\n",
       "      <td>0.091965</td>\n",
       "      <td>0.136302</td>\n",
       "      <td>-0.248275</td>\n",
       "      <td>0.051305</td>\n",
       "      <td>0.077772</td>\n",
       "      <td>-0.013464</td>\n",
       "      <td>0.07928</td>\n",
       "    </tr>\n",
       "    <tr>\n",
       "      <th>Age_Adult</th>\n",
       "      <td>-0.067828</td>\n",
       "      <td>-0.153321</td>\n",
       "      <td>-0.001242</td>\n",
       "      <td>-0.141832</td>\n",
       "      <td>-0.059028</td>\n",
       "      <td>-0.019826</td>\n",
       "      <td>0.051305</td>\n",
       "      <td>0.077772</td>\n",
       "      <td>-0.013464</td>\n",
       "      <td>0.07928</td>\n",
       "    </tr>\n",
       "    <tr>\n",
       "      <th>Age_Child</th>\n",
       "      <td>1.301802</td>\n",
       "      <td>2.942646</td>\n",
       "      <td>0.023828</td>\n",
       "      <td>2.722128</td>\n",
       "      <td>1.132903</td>\n",
       "      <td>0.380510</td>\n",
       "      <td>0.051305</td>\n",
       "      <td>0.077772</td>\n",
       "      <td>-0.013464</td>\n",
       "      <td>0.07928</td>\n",
       "    </tr>\n",
       "    <tr>\n",
       "      <th>Survived_No</th>\n",
       "      <td>-0.509477</td>\n",
       "      <td>0.190238</td>\n",
       "      <td>-0.003751</td>\n",
       "      <td>-0.212137</td>\n",
       "      <td>0.248761</td>\n",
       "      <td>0.272994</td>\n",
       "      <td>0.051305</td>\n",
       "      <td>0.077772</td>\n",
       "      <td>-0.013464</td>\n",
       "      <td>0.07928</td>\n",
       "    </tr>\n",
       "    <tr>\n",
       "      <th>Survived_Yes</th>\n",
       "      <td>1.067680</td>\n",
       "      <td>-0.398669</td>\n",
       "      <td>0.007861</td>\n",
       "      <td>0.444562</td>\n",
       "      <td>-0.521314</td>\n",
       "      <td>-0.572097</td>\n",
       "      <td>0.051305</td>\n",
       "      <td>0.077772</td>\n",
       "      <td>-0.013464</td>\n",
       "      <td>0.07928</td>\n",
       "    </tr>\n",
       "  </tbody>\n",
       "</table>\n",
       "</div>"
      ],
      "text/plain": [
       "                  Dim1      Dim2      Dim3      Dim4      Dim5      Dim6  \\\n",
       "Class_1st     1.151941 -1.231418 -0.890008 -0.049533  1.460940 -0.005902   \n",
       "Class_2nd     0.651259  0.252522  2.392076 -0.505359  0.454055 -0.226544   \n",
       "Class_3rd     0.130599  1.070050 -0.659068 -0.580899 -0.307933 -0.298099   \n",
       "Class_Crew   -0.736941 -0.482727  0.082275  0.644339 -0.437074  0.312928   \n",
       "Sex_Female    1.574794  0.008927 -0.009280 -0.338706 -0.501996  0.914393   \n",
       "Sex_Male     -0.427587 -0.002424  0.002520  0.091965  0.136302 -0.248275   \n",
       "Age_Adult    -0.067828 -0.153321 -0.001242 -0.141832 -0.059028 -0.019826   \n",
       "Age_Child     1.301802  2.942646  0.023828  2.722128  1.132903  0.380510   \n",
       "Survived_No  -0.509477  0.190238 -0.003751 -0.212137  0.248761  0.272994   \n",
       "Survived_Yes  1.067680 -0.398669  0.007861  0.444562 -0.521314 -0.572097   \n",
       "\n",
       "                  Dim7      Dim8      Dim9    Dim10  \n",
       "Class_1st     0.051305  0.077772 -0.013464  0.07928  \n",
       "Class_2nd     0.051305  0.077772 -0.013464  0.07928  \n",
       "Class_3rd     0.051305  0.077772 -0.013464  0.07928  \n",
       "Class_Crew    0.051305  0.077772 -0.013464  0.07928  \n",
       "Sex_Female    0.051305  0.077772 -0.013464  0.07928  \n",
       "Sex_Male      0.051305  0.077772 -0.013464  0.07928  \n",
       "Age_Adult     0.051305  0.077772 -0.013464  0.07928  \n",
       "Age_Child     0.051305  0.077772 -0.013464  0.07928  \n",
       "Survived_No   0.051305  0.077772 -0.013464  0.07928  \n",
       "Survived_Yes  0.051305  0.077772 -0.013464  0.07928  "
      ]
     },
     "execution_count": 8,
     "metadata": {},
     "output_type": "execute_result"
    }
   ],
   "source": [
    "df_var = pandas.DataFrame(mca.column_coordinates(df)).rename(columns = {i: \"Dim\"+str(i+1) for i in range(10)})\n",
    "df_var"
   ]
  },
  {
   "cell_type": "code",
   "execution_count": 9,
   "metadata": {
    "slideshow": {
     "slide_type": "slide"
    }
   },
   "outputs": [
    {
     "data": {
      "image/png": "[encoded data removed]",
      "text/plain": [
       "<Figure size 864x288 with 1 Axes>"
      ]
     },
     "metadata": {},
     "output_type": "display_data"
    }
   ],
   "source": [
    "g_var = seaborn.lmplot(x = \"Dim1\", y = \"Dim2\", data = df_var, fit_reg = False, \n",
    "                       height = 4, aspect = 3)\n",
    "g_var.fig.suptitle(\"Modalités en colonnes\")\n",
    "for i in df_var.index:\n",
    "    plt.text(df_var.loc[i].Dim1, df_var.loc[i].Dim2, i, size = \"xx-large\")\n",
    "plt.show()"
   ]
  },
  {
   "cell_type": "markdown",
   "metadata": {
    "slideshow": {
     "slide_type": "slide"
    }
   },
   "source": [
    "## Représentation simultanée"
   ]
  },
  {
   "cell_type": "code",
   "execution_count": 10,
   "metadata": {
    "scrolled": false
   },
   "outputs": [
    {
     "data": {
      "image/png": "[encoded data removed]",
      "text/plain": [
       "<Figure size 1152x576 with 1 Axes>"
      ]
     },
     "metadata": {},
     "output_type": "display_data"
    }
   ],
   "source": [
    "mca.plot_coordinates(df, figsize=(16, 8))\n",
    "plt.show()"
   ]
  },
  {
   "cell_type": "code",
   "execution_count": 11,
   "metadata": {
    "scrolled": false,
    "slideshow": {
     "slide_type": "slide"
    }
   },
   "outputs": [
    {
     "data": {
      "text/plain": [
       "<Figure size 1152x576 with 0 Axes>"
      ]
     },
     "metadata": {},
     "output_type": "display_data"
    },
    {
     "data": {
      "image/png": "[encoded data removed]",
      "text/plain": [
       "<Figure size 864x288 with 1 Axes>"
      ]
     },
     "metadata": {},
     "output_type": "display_data"
    }
   ],
   "source": [
    "fig = plt.figure(figsize = (16,8))\n",
    "g_simult = seaborn.lmplot(x = \"Dim1\", y = \"Dim2\", data = df_ind, fit_reg = False, \n",
    "                          height = 4, aspect = 3)\n",
    "\n",
    "for i in df_var.index:\n",
    "    plt.scatter(df_var.loc[i].Dim1, df_var.loc[i].Dim2, alpha = .25, c = \"black\")\n",
    "    plt.text(df_var.loc[i].Dim1, df_var.loc[i].Dim2, i, size = \"xx-large\", color = \"darkred\", ha = \"center\")\n",
    "\n",
    "g_simult.fig.suptitle(\"Représentation conjointe\")\n",
    "plt.show()"
   ]
  }
 ],
 "metadata": {
  "celltoolbar": "Diaporama",
  "kernelspec": {
   "display_name": "Python 3",
   "language": "python",
   "name": "python3"
  },
  "language_info": {
   "codemirror_mode": {
    "name": "ipython",
    "version": 3
   },
   "file_extension": ".py",
   "mimetype": "text/x-python",
   "name": "python",
   "nbconvert_exporter": "python",
   "pygments_lexer": "ipython3",
   "version": "3.9.9"
  }
 },
 "nbformat": 4,
 "nbformat_minor": 4
}
