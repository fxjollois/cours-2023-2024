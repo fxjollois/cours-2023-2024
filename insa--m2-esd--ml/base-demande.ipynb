{
 "cells": [
  {
   "cell_type": "markdown",
   "metadata": {},
   "source": [
    "# Bases sur Python - Travail à faire\n",
    "\n",
    "## Données AirBnB - Paris\n",
    "\n",
    "- Site [InsideAirBnB](http://insideairbnb.com/get-the-data) : logements proposés sur AirBnB\n",
    "    - Snapshots sur une journée spécifique\n",
    "    - Dans certaines villes du monde entier\n",
    "    - Ensemble de variables expliquées sur [cette page](https://docs.google.com/spreadsheets/d/1iWCNJcSutYqpULSQHlNyGInUvHg2BoUGoNRIGa6Szc4/edit#gid=1938308660).\n",
    "    \n",
    "- Données sur Paris :\n",
    "    - 4 septembre 2023\n",
    "    - Fichier [listings.csv](http://data.insideairbnb.com/france/ile-de-france/paris/2023-09-04/visualisations/listings.csv)\n",
    "    \n",
    "Le code ci-dessous vous permet de voir les 10 premières lignes de ce fichier."
   ]
  },
  {
   "cell_type": "code",
   "execution_count": 1,
   "metadata": {},
   "outputs": [
    {
     "name": "stdout",
     "output_type": "stream",
     "text": [
      "id,name,host_id,host_name,neighbourhood_group,neighbourhood,latitude,longitude,room_type,price,minimum_nights,number_of_reviews,last_review,reviews_per_month,calculated_host_listings_count,availability_365,number_of_reviews_ltm,license\n",
      "3109,Rental unit in Paris · ★5.0 · 1 bedroom · 1 bed · 1 bath,3631,Anne,,Observatoire,48.83191,2.3187,Entire home/apt,110,2,9,2019-10-24,0.11,1,253,0,7511409139079\n",
      "5396,Rental unit in Paris · ★4.56 · Studio · 1 bed · 1 bath,7903,Borzou,,Hôtel-de-Ville,48.85247,2.35835,Entire home/apt,140,1,354,2023-09-02,2.05,1,207,44,7510402838018\n",
      "7397,Rental unit in Paris · ★4.73 · 2 bedrooms · 2 beds · 1 bath,2626,Franck,,Hôtel-de-Ville,48.85909,2.35315,Entire home/apt,140,10,337,2023-08-31,2.23,1,211,25,7510400829623\n",
      "7964,Rental unit in Paris · ★4.80 · 1 bedroom · 1 bed · 1 bath,22155,Anaïs,,Opéra,48.87417,2.34245,Entire home/apt,180,7,6,2015-09-14,0.04,1,30,0,7510903576564\n",
      "9359,Rental unit in Paris · 1 bedroom · 1 bed · 1 bath,28422,Bernadette,,Louvre,48.86006,2.34863,Entire home/apt,75,180,0,,,1,105,0,\"Available with a mobility lease only (\"\"bail mobilité\"\")\"\n",
      "9952,Rental unit in Paris · ★4.92 · 1 bedroom · 1 bed · 1 bath,33534,Elisabeth,,Popincourt,48.86373,2.37093,Entire home/apt,190,4,48,2023-06-18,0.38,1,83,9,7511101582862\n",
      "10586,Rental unit in Paris · ★4.85 · Studio · 2 beds · 1 bath,37107,Michael,,Buttes-Montmartre,48.887,2.34531,Entire home/apt,80,30,51,2023-07-05,0.31,3,86,2,\"Available with a mobility lease only (\"\"bail mobilité\"\")\"\n",
      "10588,Rental unit in Paris · ★4.90 · Studio · 1 bed · 1 bath,37107,Michael,,Buttes-Montmartre,48.88725,2.34518,Entire home/apt,75,30,22,2022-12-16,0.14,3,273,1,\"Available with a mobility lease only (\"\"bail mobilité\"\")\"\n",
      "11265,Rental unit in Paris · ★4.88 · 1 bedroom · 1 bed · 1 bath,41718,Sylvie,,Buttes-Montmartre,48.88494,2.33997,Entire home/apt,145,7,26,2023-08-07,0.30,1,19,6,7511801401834\n"
     ]
    }
   ],
   "source": [
    "import requests\n",
    "\n",
    "url = \"http://data.insideairbnb.com/france/ile-de-france/paris/2023-09-04/visualisations/listings.csv\"\n",
    "response = requests.get(url)\n",
    "data = response.text\n",
    "for l in data.split(\"\\n\")[:10]:\n",
    "    print(l)"
   ]
  },
  {
   "cell_type": "markdown",
   "metadata": {},
   "source": [
    "## Réaliser les étapes suivantes\n",
    "\n",
    "- Récupérer les données dans un `DataFrame`\n",
    "- Donner le nombre de logements total\n",
    "- Lister les différentes valeurs que prend la variable `neighbourhood`\n",
    "- Lister les différentes valeurs que prend la variable `room_type`\n",
    "- Donner les 3 arrondissements avec le plus de logements\n",
    "- Donner les 3 arrondissements pour lesquels le prix est le plus élevé\n",
    "- Décrire les variables `price`, `number_of_reviews` et `reviews_per_month`\n",
    "- Décrire les variables `room_type` et `neighboorhood`\n",
    "- Décrire le lien entre `price` et `room_type`\n",
    "- Décrire le lien entre `price` et `neighboorhood`\n",
    "- Décrire le lien entre `room_type` et `neighboorhood`\n",
    "- Représenter les logements dans un nuage de points, en mettant une couleur par `neighboorhood`\n",
    "- Ajouter l'information sur `price` pour chaque point dans ce graphique"
   ]
  },
  {
   "cell_type": "code",
   "execution_count": null,
   "metadata": {},
   "outputs": [],
   "source": []
  }
 ],
 "metadata": {
  "kernelspec": {
   "display_name": "Python 3",
   "language": "python",
   "name": "python3"
  },
  "language_info": {
   "codemirror_mode": {
    "name": "ipython",
    "version": 3
   },
   "file_extension": ".py",
   "mimetype": "text/x-python",
   "name": "python",
   "nbconvert_exporter": "python",
   "pygments_lexer": "ipython3",
   "version": "3.9.9"
  }
 },
 "nbformat": 4,
 "nbformat_minor": 4
}
